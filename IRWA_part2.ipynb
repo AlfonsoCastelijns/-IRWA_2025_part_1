{
 "cells": [
  {
   "cell_type": "code",
   "execution_count": 13,
   "metadata": {
    "colab": {
     "base_uri": "https://localhost:8080/"
    },
    "executionInfo": {
     "elapsed": 29607,
     "status": "ok",
     "timestamp": 1762000871264,
     "user": {
      "displayName": "GORI RIBOT SANSO",
      "userId": "10737783650973683761"
     },
     "user_tz": -60
    },
    "id": "6ubUJN-0rEHn",
    "outputId": "135f8ca2-ce92-41a7-87bd-ef8a85a9ed85"
   },
   "outputs": [
    {
     "name": "stdout",
     "output_type": "stream",
     "text": [
      "Requirement already satisfied: nltk in c:\\users\\caste\\anaconda3\\lib\\site-packages (3.7)\n",
      "Requirement already satisfied: joblib in c:\\users\\caste\\anaconda3\\lib\\site-packages (from nltk) (1.1.0)\n",
      "Requirement already satisfied: regex>=2021.8.3 in c:\\users\\caste\\anaconda3\\lib\\site-packages (from nltk) (2022.3.15)\n",
      "Requirement already satisfied: click in c:\\users\\caste\\anaconda3\\lib\\site-packages (from nltk) (8.0.4)\n",
      "Requirement already satisfied: tqdm in c:\\users\\caste\\anaconda3\\lib\\site-packages (from nltk) (4.64.0)\n",
      "Requirement already satisfied: colorama in c:\\users\\caste\\anaconda3\\lib\\site-packages (from click->nltk) (0.4.4)\n"
     ]
    },
    {
     "name": "stderr",
     "output_type": "stream",
     "text": [
      "[nltk_data] Downloading package stopwords to\n",
      "[nltk_data]     C:\\Users\\caste\\AppData\\Roaming\\nltk_data...\n",
      "[nltk_data]   Package stopwords is already up-to-date!\n"
     ]
    }
   ],
   "source": [
    "!pip install nltk\n",
    "import json\n",
    "import re\n",
    "import nltk\n",
    "import math \n",
    "import pandas as pd\n",
    "from nltk.corpus import stopwords\n",
    "from nltk.stem import PorterStemmer\n",
    "nltk.download('stopwords')\n",
    "stop_words = set(stopwords.words('english'))\n",
    "stemmer = PorterStemmer()"
   ]
  },
  {
   "cell_type": "code",
   "execution_count": 14,
   "metadata": {
    "executionInfo": {
     "elapsed": 5,
     "status": "ok",
     "timestamp": 1762000921561,
     "user": {
      "displayName": "GORI RIBOT SANSO",
      "userId": "10737783650973683761"
     },
     "user_tz": -60
    },
    "id": "I-2ZygEHrLMT"
   },
   "outputs": [],
   "source": [
    "#1.1\n",
    "# Function to clean and normalize text fields\n",
    "def clean_text(text):\n",
    "    text = text.lower()\n",
    "    text = re.sub(r'[^\\x00-\\x7F]+', '', text) # Delete no ASCII character\n",
    "    text = re.sub(r'[^\\w\\s]', '', text) # Remove punctuation\n",
    "    text = re.sub(r'\\s+', ' ', text) # Replace multiple spaces\n",
    "    tokens = text.split() # Tokenize\n",
    "    tokens = [word for word in tokens if word not in stop_words]\n",
    "    stemmed = [stemmer.stem(word) for word in tokens] # Apply stemming\n",
    "\n",
    "    return ' '.join(stemmed)\n"
   ]
  },
  {
   "cell_type": "code",
   "execution_count": 15,
   "metadata": {
    "executionInfo": {
     "elapsed": 16776,
     "status": "ok",
     "timestamp": 1762000995676,
     "user": {
      "displayName": "GORI RIBOT SANSO",
      "userId": "10737783650973683761"
     },
     "user_tz": -60
    },
    "id": "xtGxTlHJrM0n"
   },
   "outputs": [],
   "source": [
    "#1.2\n",
    "with open('fashion_products_dataset.json', 'r', encoding='utf-8') as f:\n",
    "    corpus = json.load(f)\n",
    "# Text cleaning to title and description fields\n",
    "for doc in corpus:\n",
    "    doc['title_clean'] = clean_text(doc.get('title', ''))\n",
    "    doc['description_clean'] = clean_text(doc.get('description', ''))\n",
    "\n",
    "REQUIRED_FIELDS = [\n",
    "    'pid', 'title', 'description', 'brand', 'category', 'sub_category',\n",
    "    'product_details', 'seller', 'out_of_stock', 'selling_price',\n",
    "    'discount', 'actual_price', 'average_rating', 'url'\n",
    "]\n",
    "# We ensure all required fields are present in each document\n",
    "def ensure_fields(doc):\n",
    "    for field in REQUIRED_FIELDS:\n",
    "        if field not in doc:\n",
    "            doc[field] = None\n",
    "    return doc\n",
    "\n",
    "# Apply field completion to the entire corpus\n",
    "corpus = [ensure_fields(doc) for doc in corpus]\n",
    "\n"
   ]
  },
  {
   "cell_type": "code",
   "execution_count": 16,
   "metadata": {
    "executionInfo": {
     "elapsed": 223,
     "status": "ok",
     "timestamp": 1762001003735,
     "user": {
      "displayName": "GORI RIBOT SANSO",
      "userId": "10737783650973683761"
     },
     "user_tz": -60
    },
    "id": "36YAtq2k3vzr"
   },
   "outputs": [],
   "source": [
    "# 1.3 Creation of a new variable that aggrups multiple features\n",
    "def build_metadata_text(doc):\n",
    "    brand = doc.get('brand', '')\n",
    "    category = doc.get('category', '')\n",
    "    sub_category = doc.get('sub_category', '')\n",
    "    seller = doc.get('seller', '')\n",
    "    product_details = ' '.join(\n",
    "        f\"{k} {v}\" for d in doc.get('product_details', []) for k, v in d.items()\n",
    "    )\n",
    "    return f\"{brand} {category} {sub_category} {product_details} {seller}\".lower()\n",
    "\n",
    "for doc in corpus:\n",
    "    doc['metadata_text'] = build_metadata_text(doc)"
   ]
  },
  {
   "cell_type": "code",
   "execution_count": 17,
   "metadata": {
    "executionInfo": {
     "elapsed": 47,
     "status": "ok",
     "timestamp": 1762001007959,
     "user": {
      "displayName": "GORI RIBOT SANSO",
      "userId": "10737783650973683761"
     },
     "user_tz": -60
    },
    "id": "NOAejA9BEb0L"
   },
   "outputs": [],
   "source": [
    "#1.4\n",
    "def normalize_numeric_fields(doc):\n",
    "    # Convert price and rating fields to numeric types\n",
    "    try:\n",
    "        doc['selling_price'] = float(doc['selling_price'].replace(',', '.'))\n",
    "    except:\n",
    "        doc['selling_price'] = None\n",
    "    try:\n",
    "        doc['actual_price'] = float(doc['actual_price'].replace(',', '.'))\n",
    "    except:\n",
    "        doc['actual_price'] = None\n",
    "    try:\n",
    "        doc['discount'] = int(doc['discount'].replace('% off', '').strip())\n",
    "    except:\n",
    "        doc['discount'] = None\n",
    "    try:\n",
    "        doc['average_rating'] = float(doc['average_rating'])\n",
    "    except:\n",
    "        doc['average_rating'] = None\n",
    "\n",
    "    return doc\n",
    "\n",
    "# Apply normalization to the entire corpus\n",
    "corpus = [normalize_numeric_fields(doc) for doc in corpus]\n"
   ]
  },
  {
   "cell_type": "markdown",
   "metadata": {
    "id": "QqeLOsZgheXQ"
   },
   "source": [
    "**DELIVERABLE 2**"
   ]
  },
  {
   "cell_type": "code",
   "execution_count": 18,
   "metadata": {
    "executionInfo": {
     "elapsed": 44288,
     "status": "ok",
     "timestamp": 1762001059166,
     "user": {
      "displayName": "GORI RIBOT SANSO",
      "userId": "10737783650973683761"
     },
     "user_tz": -60
    },
    "id": "yX81AiQuhUOm"
   },
   "outputs": [],
   "source": [
    "# 1.1 Build inverted index\n",
    "inverted_index = {}\n",
    "\n",
    "# Iterate through each document in the corpus\n",
    "for doc in corpus:\n",
    "    doc_id = doc['pid']  # Use product ID as the document ID\n",
    "    # Combine cleaned title and description\n",
    "    cleaned_text = doc.get('title_clean', '') + ' ' + doc.get('description_clean', '')\n",
    "    # Split the cleaned text into terms\n",
    "    terms = cleaned_text.split()\n",
    "\n",
    "    # Add terms and document ID to the inverted index\n",
    "    for term in terms:\n",
    "        if term not in inverted_index:\n",
    "            inverted_index[term] = []\n",
    "        if doc_id not in inverted_index[term]:\n",
    "            inverted_index[term].append(doc_id)"
   ]
  },
  {
   "cell_type": "code",
   "execution_count": 49,
   "metadata": {
    "executionInfo": {
     "elapsed": 6,
     "status": "ok",
     "timestamp": 1762001061433,
     "user": {
      "displayName": "GORI RIBOT SANSO",
      "userId": "10737783650973683761"
     },
     "user_tz": -60
    },
    "id": "FeGGb_WBjMHP"
   },
   "outputs": [],
   "source": [
    "\n",
    "def query(query_terms, inverted_index):\n",
    "    # Return documents that contain at least one query term\n",
    "    matching_docs = set()\n",
    "    for term in query_terms:\n",
    "        if term in inverted_index:\n",
    "            matching_docs.update(inverted_index[term])\n",
    "    return list(matching_docs)\n",
    "\n"
   ]
  },
  {
   "cell_type": "code",
   "execution_count": 20,
   "metadata": {
    "colab": {
     "base_uri": "https://localhost:8080/"
    },
    "executionInfo": {
     "elapsed": 202,
     "status": "ok",
     "timestamp": 1762001065289,
     "user": {
      "displayName": "GORI RIBOT SANSO",
      "userId": "10737783650973683761"
     },
     "user_tz": -60
    },
    "id": "WR3-4QvPjkIL",
    "outputId": "65a6dc4b-9868-4e63-898e-1ec4d264a0ae"
   },
   "outputs": [
    {
     "name": "stdout",
     "output_type": "stream",
     "text": [
      "\n",
      "Matching documents with features ['jean', 'red', 'jacket'] :\n",
      "{'_id': 'f1ce2f9e-ba05-507c-9bc2-136717d8e249', 'actual_price': 1.398, 'average_rating': 3.4, 'brand': 'ModeWa', 'category': 'Clothing and Accessories', 'crawled_at': 1612991478000, 'description': 'Mark your solid impressions with ours ultra-soft, t-shirt. Wear this t-shirt. Place in many ways with dark jeans, cuffed chinos. Its 100% soft cotton, solid color. Machine wash t-shirt, the material moves in every direction. Looks cool in every type of jacket so you look cool in winters as well. Its super dry and ultra-fashionable hooded must have t-shirt in your wardrobe.', 'discount': 64, 'images': ['https://rukminim1.flixcart.com/image/128/128/kdhphu80/t-shirt/6/i/t/xl-yt-tshrt-135-ytrick-original-imafudu6ehngehfk.jpeg?q=70', 'https://rukminim1.flixcart.com/image/128/128/kdhphu80-0/t-shirt/7/z/0/l-yt-tshrt-48-ytrick-original-imafuduyhvmgzy3z.jpeg?q=70', 'https://rukminim1.flixcart.com/image/128/128/kdhphu80-0/t-shirt/b/h/d/m-yt-tshrt-92-ytrick-original-imafudu5gh2ybysx.jpeg?q=70'], 'out_of_stock': False, 'pid': 'TSHFW7F4ZFRR8CVE', 'product_details': [{'Type': 'Polo Neck'}, {'Sleeve': 'Half Sleeve'}, {'Fit': 'Regular'}, {'Fabric': 'Cotton Blend'}, {'Pack of': '2'}, {'Style Code': 'LAMANA87'}, {'Neck Type': 'Polo Neck'}, {'Ideal For': 'Men'}, {'Size': 'XL'}, {'Pattern': 'Solid'}, {'Suitable For': 'Western Wear'}, {'Fabric Care': 'Do not bleach'}, {'Brand Color': 'Blue'}, {'Generic Name': 'T Shirts'}, {'Country of Origin': 'India'}], 'seller': 'Mode ways', 'selling_price': 495.0, 'sub_category': 'Topwear', 'title': 'Solid Men Polo Neck Blue, Red T-Shirt\\xa0\\xa0(Pack of 2)', 'url': 'https://www.flipkart.com/modeways-solid-men-polo-neck-blue-red-t-shirt/p/itm9c4324f1062a3?pid=TSHFW7F4ZFRR8CVE&lid=LSTTSHFW7F4ZFRR8CVENWJK0T&marketplace=FLIPKART&srno=b_4_151&otracker=browse&fm=organic&iid=970f6769-7872-4efb-9078-f577283659d6.TSHFW7F4ZFRR8CVE.SEARCH&ssid=c4wvr4o4vk0000001612114516242', 'title_clean': 'solid men polo neck blue red tshirtpack 2', 'description_clean': 'mark solid impress ultrasoft tshirt wear tshirt place mani way dark jean cuf chino 100 soft cotton solid color machin wash tshirt materi move everi direct look cool everi type jacket look cool winter well super dri ultrafashion hood must tshirt wardrob', 'metadata_text': 'modewa clothing and accessories topwear type polo neck sleeve half sleeve fit regular fabric cotton blend pack of 2 style code lamana87 neck type polo neck ideal for men size xl pattern solid suitable for western wear fabric care do not bleach brand color blue generic name t shirts country of origin india mode ways'}\n",
      "{'_id': 'ccaf42a9-fa16-5f58-831c-71501218d99b', 'actual_price': 1.398, 'average_rating': 3.8, 'brand': 'ModeWa', 'category': 'Clothing and Accessories', 'crawled_at': 1612991390000, 'description': 'Mark your solid impressions with ours ultra-soft, t-shirt. Wear this t-shirt. Place in many ways with dark jeans, cuffed chinos. Its 100% soft cotton, solid color. Machine wash t-shirt, the material moves in every direction. Looks cool in every type of jacket so you look cool in winters as well. Its super dry and ultra-fashionable hooded must have t-shirt in your wardrobe.', 'discount': 64, 'images': ['https://rukminim1.flixcart.com/image/128/128/kdhphu80-0/t-shirt/6/e/i/m-yt-tshrt-485-ytrick-original-imafudud8hyczzuz.jpeg?q=70', 'https://rukminim1.flixcart.com/image/128/128/kdhphu80-0/t-shirt/s/9/c/s-yt-tshrt-412-ytrick-original-imafudtxufm8ntnz.jpeg?q=70', 'https://rukminim1.flixcart.com/image/128/128/kdhphu80/t-shirt/h/o/s/xl-yt-tshrt-359-ytrick-original-imafudtx34n4xfc6.jpeg?q=70'], 'out_of_stock': False, 'pid': 'TSHFW7F9CTHYCZQE', 'product_details': [{'Type': 'Polo Neck'}, {'Sleeve': 'Half Sleeve'}, {'Fit': 'Regular'}, {'Fabric': 'Cotton Blend'}, {'Pack of': '2'}, {'Style Code': 'LAMANA61'}, {'Neck Type': 'Polo Neck'}, {'Ideal For': 'Men'}, {'Size': 'XXL'}, {'Pattern': 'Solid'}, {'Suitable For': 'Western Wear'}, {'Fabric Care': 'Do not bleach'}, {'Brand Color': 'Orange, red'}, {'Generic Name': 'T Shirts'}, {'Country of Origin': 'India'}], 'seller': 'MP TRADERS 510', 'selling_price': 495.0, 'sub_category': 'Topwear', 'title': 'Solid Men Polo Neck Red, Orange T-Shirt\\xa0\\xa0(Pack of 2)', 'url': 'https://www.flipkart.com/modeways-solid-men-polo-neck-red-orange-t-shirt/p/itmc3db7d18749d6?pid=TSHFW7F9CTHYCZQE&lid=LSTTSHFW7F9CTHYCZQEX72E5B&marketplace=FLIPKART&srno=b_1_13&otracker=browse&fm=organic&iid=ba18b649-663f-4922-b42e-4276632a0049.TSHFW7F9CTHYCZQE.SEARCH&ssid=u7cxq1h9uo0000001612114513046', 'title_clean': 'solid men polo neck red orang tshirtpack 2', 'description_clean': 'mark solid impress ultrasoft tshirt wear tshirt place mani way dark jean cuf chino 100 soft cotton solid color machin wash tshirt materi move everi direct look cool everi type jacket look cool winter well super dri ultrafashion hood must tshirt wardrob', 'metadata_text': 'modewa clothing and accessories topwear type polo neck sleeve half sleeve fit regular fabric cotton blend pack of 2 style code lamana61 neck type polo neck ideal for men size xxl pattern solid suitable for western wear fabric care do not bleach brand color orange, red generic name t shirts country of origin india mp traders 510'}\n",
      "{'_id': 'adb53770-6cc0-5057-a5d6-a60323e56e1b', 'actual_price': 1.398, 'average_rating': 3.8, 'brand': 'ModeWa', 'category': 'Clothing and Accessories', 'crawled_at': 1612991435000, 'description': 'Mark your solid impressions with ours ultra-soft, t-shirt. Wear this t-shirt. Place in many ways with dark jeans, cuffed chinos. Its 100% soft cotton, solid color. Machine wash t-shirt, the material moves in every direction. Looks cool in every type of jacket so you look cool in winters as well. Its super dry and ultra-fashionable hooded must have t-shirt in your wardrobe.', 'discount': 64, 'images': ['https://rukminim1.flixcart.com/image/128/128/kdhphu80/t-shirt/w/r/w/xl-yt-tshrt-408-ytrick-original-imafudu44qfzhd7s.jpeg?q=70', 'https://rukminim1.flixcart.com/image/128/128/kdhphu80-0/t-shirt/u/w/z/xl-yt-tshrt-588-ytrick-original-imafudtzdeygmskz.jpeg?q=70', 'https://rukminim1.flixcart.com/image/128/128/kdhphu80-0/t-shirt/p/u/b/xl-yt-tshrt-379-ytrick-original-imafuduf6usssjtk.jpeg?q=70'], 'out_of_stock': False, 'pid': 'TSHFW7F4XEDY2HYF', 'product_details': [{'Type': 'Polo Neck'}, {'Sleeve': 'Half Sleeve'}, {'Fit': 'Regular'}, {'Fabric': 'Cotton Blend'}, {'Pack of': '2'}, {'Style Code': 'LAMANA48'}, {'Neck Type': 'Polo Neck'}, {'Ideal For': 'Women'}, {'Size': 'M'}, {'Pattern': 'Solid'}, {'Suitable For': 'Western Wear'}, {'Fabric Care': 'Do not bleach'}, {'Brand Color': 'Blue'}, {'Generic Name': 'T Shirts'}, {'Country of Origin': 'India'}], 'seller': 'MP TRADERS 510', 'selling_price': 495.0, 'sub_category': 'Topwear', 'title': 'Solid Women Polo Neck Blue, Red T-Shirt\\xa0\\xa0(Pack of 2)', 'url': 'https://www.flipkart.com/modeways-solid-men-polo-neck-blue-red-t-shirt/p/itm69062e4a7ae2e?pid=TSHFW7F4XEDY2HYF&lid=LSTTSHFW7F4XEDY2HYFWSPVIE&marketplace=FLIPKART&srno=b_3_83&otracker=browse&fm=organic&iid=1f109aad-57be-4b65-b08f-0b221d5838bd.TSHFW7F4XEDY2HYF.SEARCH&ssid=nh23156r9s0000001612114515186', 'title_clean': 'solid women polo neck blue red tshirtpack 2', 'description_clean': 'mark solid impress ultrasoft tshirt wear tshirt place mani way dark jean cuf chino 100 soft cotton solid color machin wash tshirt materi move everi direct look cool everi type jacket look cool winter well super dri ultrafashion hood must tshirt wardrob', 'metadata_text': 'modewa clothing and accessories topwear type polo neck sleeve half sleeve fit regular fabric cotton blend pack of 2 style code lamana48 neck type polo neck ideal for women size m pattern solid suitable for western wear fabric care do not bleach brand color blue generic name t shirts country of origin india mp traders 510'}\n",
      "{'_id': '088a80b4-da51-5e02-bc14-ad1659b1578f', 'actual_price': 1.398, 'average_rating': 3.8, 'brand': 'ModeWa', 'category': 'Clothing and Accessories', 'crawled_at': 1612991435000, 'description': 'Mark your solid impressions with ours ultra-soft, t-shirt. Wear this t-shirt. Place in many ways with dark jeans, cuffed chinos. Its 100% soft cotton, solid color. Machine wash t-shirt, the material moves in every direction. Looks cool in every type of jacket so you look cool in winters as well. Its super dry and ultra-fashionable hooded must have t-shirt in your wardrobe.', 'discount': 64, 'images': ['https://rukminim1.flixcart.com/image/128/128/kdhphu80/t-shirt/j/q/l/l-yt-tshrt-423-ytrick-original-imafudu9v56wzscm.jpeg?q=70', 'https://rukminim1.flixcart.com/image/128/128/kdhphu80/t-shirt/3/c/e/s-yt-tshrt-505-ytrick-original-imafudufyhscgvhs.jpeg?q=70', 'https://rukminim1.flixcart.com/image/128/128/kdhphu80-0/t-shirt/p/u/b/xl-yt-tshrt-379-ytrick-original-imafuduf6usssjtk.jpeg?q=70'], 'out_of_stock': False, 'pid': 'TSHFW7F4Z5HHHNBP', 'product_details': [{'Type': 'Polo Neck'}, {'Sleeve': 'Half Sleeve'}, {'Fit': 'Regular'}, {'Fabric': 'Cotton Blend'}, {'Pack of': '2'}, {'Style Code': 'LAMANA51'}, {'Neck Type': 'Polo Neck'}, {'Ideal For': 'Women'}, {'Size': 'L'}, {'Pattern': 'Solid'}, {'Suitable For': 'Western Wear'}, {'Fabric Care': 'Do not bleach'}, {'Brand Color': 'Blue'}, {'Generic Name': 'T Shirts'}, {'Country of Origin': 'India'}], 'seller': 'MP TRADERS 510', 'selling_price': 495.0, 'sub_category': 'Topwear', 'title': 'Solid Women Polo Neck Blue, Red T-Shirt\\xa0\\xa0(Pack of 2)', 'url': 'https://www.flipkart.com/modeways-solid-men-polo-neck-blue-red-t-shirt/p/itm270d0129c189a?pid=TSHFW7F4Z5HHHNBP&lid=LSTTSHFW7F4Z5HHHNBP7AKUNJ&marketplace=FLIPKART&srno=b_3_82&otracker=browse&fm=organic&iid=1f109aad-57be-4b65-b08f-0b221d5838bd.TSHFW7F4Z5HHHNBP.SEARCH&ssid=nh23156r9s0000001612114515186', 'title_clean': 'solid women polo neck blue red tshirtpack 2', 'description_clean': 'mark solid impress ultrasoft tshirt wear tshirt place mani way dark jean cuf chino 100 soft cotton solid color machin wash tshirt materi move everi direct look cool everi type jacket look cool winter well super dri ultrafashion hood must tshirt wardrob', 'metadata_text': 'modewa clothing and accessories topwear type polo neck sleeve half sleeve fit regular fabric cotton blend pack of 2 style code lamana51 neck type polo neck ideal for women size l pattern solid suitable for western wear fabric care do not bleach brand color blue generic name t shirts country of origin india mp traders 510'}\n",
      "{'_id': '6fd52b46-abef-5356-8a28-8eaed8bc0459', 'actual_price': 3.299, 'average_rating': 3.8, 'brand': 'SEVN', 'category': 'Clothing and Accessories', 'crawled_at': 1612990040000, 'description': 'soft premium cotton. Best suited with denim jeans ,leather jackets . Can be used as regular use tshirt.Henley collor with stylish looks .', 'discount': 80, 'images': ['https://rukminim1.flixcart.com/image/128/128/k7dnonk0/t-shirt/s/k/h/m-s315-c3-nvy-red-wht-sevnix-original-imafpm58cqha3cqf.jpeg?q=70', 'https://rukminim1.flixcart.com/image/128/128/k7285u80/t-shirt/h/t/r/m-s315-c1-navy-sevnix-original-imafpey6f29mfggn.jpeg?q=70'], 'out_of_stock': False, 'pid': 'TSHFPHPHMFZHKSKH', 'product_details': [{'Type': 'Henley Neck'}, {'Sleeve': 'Half Sleeve'}, {'Fit': 'Regular'}, {'Fabric': 'Cotton Blend'}, {'Pack of': '3'}, {'Style Code': 'S315-C3-NVY-RED-WHT'}, {'Neck Type': 'Henley Neck'}, {'Ideal For': 'Women'}, {'Size': 'XL'}, {'Pattern': 'Solid'}, {'Suitable For': 'Western Wear'}, {'Brand Fit': 'regular'}, {'Sleeve Type': 'Wide'}, {'Fabric Care': 'Reverse and dry'}, {'Brand Color': 'navy red white'}, {'Generic Name': 'T Shirts'}, {'Country of Origin': 'India'}], 'seller': 'Madster', 'selling_price': 649.0, 'sub_category': 'Topwear', 'title': 'Solid Women Henley Neck Dark Blue, Red T-Shirt\\xa0\\xa0(Pack of 3)', 'url': 'https://www.flipkart.com/sevnix-solid-men-henley-neck-dark-blue-red-t-shirt/p/itma83d5097106f3?pid=TSHFPHPHMFZHKSKH&lid=LSTTSHFPHPHMFZHKSKHLNZN6H&marketplace=FLIPKART&srno=b_1_19&otracker=browse&fm=organic&iid=f8b67472-c226-4541-918c-b1e2b145044a.TSHFPHPHMFZHKSKH.SEARCH&ssid=re678bt3pc0000001612413710165', 'title_clean': 'solid women henley neck dark blue red tshirtpack 3', 'description_clean': 'soft premium cotton best suit denim jean leather jacket use regular use tshirthenley collor stylish look', 'metadata_text': 'sevn clothing and accessories topwear type henley neck sleeve half sleeve fit regular fabric cotton blend pack of 3 style code s315-c3-nvy-red-wht neck type henley neck ideal for women size xl pattern solid suitable for western wear brand fit regular sleeve type wide fabric care reverse and dry brand color navy red white generic name t shirts country of origin india madster'}\n",
      "{'_id': '02f652f8-67c2-55f1-9345-2587021eb8af', 'actual_price': 699.0, 'average_rating': 3.8, 'brand': 'ModeWa', 'category': 'Clothing and Accessories', 'crawled_at': 1612991456000, 'description': 'Mark your solid impressions with ours ultra-soft, t-shirt. Wear this t-shirt. Place in many ways with dark jeans, cuffed chinos. Its 100% soft cotton, solid color. Machine wash t-shirt, the material moves in every direction. Looks cool in every type of jacket so you look cool in winters as well. Its super dry and ultra-fashionable hooded must have t-shirt in your wardrobe.', 'discount': 57, 'images': ['https://rukminim1.flixcart.com/image/128/128/kdhphu80/t-shirt/d/h/j/xl-yt-tshrt-588-ytrick-original-imafudtzjjhfxjws.jpeg?q=70', 'https://rukminim1.flixcart.com/image/128/128/kdhphu80-0/t-shirt/u/w/z/xl-yt-tshrt-588-ytrick-original-imafudtzdeygmskz.jpeg?q=70'], 'out_of_stock': False, 'pid': 'TSHFW7F3PRQSAVN9', 'product_details': [{'Type': 'Polo Neck'}, {'Sleeve': 'Half Sleeve'}, {'Fit': 'Regular'}, {'Fabric': 'Cotton Blend'}, {'Pack of': '1'}, {'Style Code': 'LAMANA112'}, {'Neck Type': 'Polo Neck'}, {'Ideal For': 'Women'}, {'Size': 'L'}, {'Pattern': 'Solid'}, {'Suitable For': 'Western Wear'}, {'Fabric Care': 'Do not bleach'}, {'Brand Color': 'Orange'}, {'Generic Name': 'T Shirts'}, {'Country of Origin': 'India'}], 'seller': 'MP TRADERS 510', 'selling_price': 299.0, 'sub_category': 'Topwear', 'title': 'Solid Women Polo Neck Red T-Shirt', 'url': 'https://www.flipkart.com/modeways-solid-men-polo-neck-red-t-shirt/p/itm6fdc3b2208e80?pid=TSHFW7F3PRQSAVN9&lid=LSTTSHFW7F3PRQSAVN9QRPPYU&marketplace=FLIPKART&srno=b_3_116&otracker=browse&fm=organic&iid=1f109aad-57be-4b65-b08f-0b221d5838bd.TSHFW7F3PRQSAVN9.SEARCH&ssid=nh23156r9s0000001612114515186', 'title_clean': 'solid women polo neck red tshirt', 'description_clean': 'mark solid impress ultrasoft tshirt wear tshirt place mani way dark jean cuf chino 100 soft cotton solid color machin wash tshirt materi move everi direct look cool everi type jacket look cool winter well super dri ultrafashion hood must tshirt wardrob', 'metadata_text': 'modewa clothing and accessories topwear type polo neck sleeve half sleeve fit regular fabric cotton blend pack of 1 style code lamana112 neck type polo neck ideal for women size l pattern solid suitable for western wear fabric care do not bleach brand color orange generic name t shirts country of origin india mp traders 510'}\n",
      "{'_id': 'c3870ec2-d248-54f4-9032-5d01358f913b', 'actual_price': 3.799, 'average_rating': None, 'brand': 'Lev', 'category': 'Clothing and Accessories', 'crawled_at': 1612998080000, 'description': 'Grey medium wash 5-pocket mid-rise jeans, clean look, heavy fade, has a zip fly closure, and waistband with belt loops. When its time to upgrade your wardrobe, opt for a pair of Levis jeans.  Style yours with Chelsea boots and a khaki field jacket when youre heading out to paint the town red with your friends.', 'discount': 20, 'images': ['https://rukminim1.flixcart.com/image/128/128/k9itgnk0/jean/t/b/b/28-9908225-levis-original-imafranhyhgstkdg.jpeg?q=70', 'https://rukminim1.flixcart.com/image/128/128/k9itgnk0/jean/b/z/f/28-9908225-levis-original-imafrannj9agfyee.jpeg?q=70', 'https://rukminim1.flixcart.com/image/128/128/k9itgnk0/jean/a/8/c/28-9908225-levis-original-imafranmqqw6zczh.jpeg?q=70', 'https://rukminim1.flixcart.com/image/128/128/k9itgnk0/jean/g/f/q/28-9908225-levis-original-imafranha6ztfpvz.jpeg?q=70', 'https://rukminim1.flixcart.com/image/128/128/k9itgnk0/jean/y/2/k/28-9908225-levis-original-imafranmuehz4kv7.jpeg?q=70', 'https://rukminim1.flixcart.com/image/128/128/k9itgnk0/jean/a/c/s/28-9908225-levis-original-imafranhzapyr5nt.jpeg?q=70', 'https://rukminim1.flixcart.com/image/128/128/k9itgnk0/jean/b/9/h/28-9908225-levis-original-imafranhgct2hb3m.jpeg?q=70'], 'out_of_stock': True, 'pid': 'JEAFRAQECQPWUPYN', 'product_details': [{'Style Code': '9908225'}, {'Ideal For': 'Men'}, {'Suitable For': 'Western Wear'}, {'Pack Of': '1'}, {'Reversible': 'No'}, {'Sales Package': 'Grey medium wash 5-pocket mid-rise jeans, clean look, heavy fade, has a zip fly closure, and waistband with belt loops. When its time to upgrade your wardrobe, opt for a pair of Levis jeans. Style yours with Chelsea boots and a khaki field jacket when youre heading out to paint the town red with your friends.'}, {'Closure': 'Zip Fly'}, {'Fabric': 'Cotton Blend'}, {'Faded': 'Heavy Fade'}, {'Rise': 'Mid Rise'}, {'Distressed': 'Clean Look'}, {'Color': 'Grey'}, {'Fabric Care': 'Machine Wash'}, {'Generic Name': 'Jeans'}], 'seller': '', 'selling_price': 3.039, 'sub_category': 'Bottomwear', 'title': 'Tapered Fit Men Grey Jeans', 'url': 'https://www.flipkart.com/levis-tapered-fit-men-grey-jeans/p/itm1c52b39c91540?pid=JEAFRAQECQPWUPYN&lid=LSTJEAFRAQECQPWUPYNSLNASF&marketplace=FLIPKART&srno=b_1_4&otracker=browse&fm=organic&iid=8cd14e1b-4683-4fd8-8972-5bf009402d56.JEAFRAQECQPWUPYN.SEARCH&ssid=2nxvxauq000000001612111729922', 'title_clean': 'taper fit men grey jean', 'description_clean': 'grey medium wash 5pocket midris jean clean look heavi fade zip fli closur waistband belt loop time upgrad wardrob opt pair levi jean style chelsea boot khaki field jacket your head paint town red friend', 'metadata_text': 'lev clothing and accessories bottomwear style code 9908225 ideal for men suitable for western wear pack of 1 reversible no sales package grey medium wash 5-pocket mid-rise jeans, clean look, heavy fade, has a zip fly closure, and waistband with belt loops. when its time to upgrade your wardrobe, opt for a pair of levis jeans. style yours with chelsea boots and a khaki field jacket when youre heading out to paint the town red with your friends. closure zip fly fabric cotton blend faded heavy fade rise mid rise distressed clean look color grey fabric care machine wash generic name jeans '}\n",
      "{'_id': '690ebc82-898c-5cfd-9d23-e47883761aa0', 'actual_price': 1.049, 'average_rating': 4.3, 'brand': 'U.s.Polo Associati', 'category': 'Clothing and Accessories', 'crawled_at': 1612999322000, 'description': 'Track pant with contrast zipper pockets. Broad waistband with flat multi color draw cord. Comfort fit. U.S. Polo Assn. has 3 sub-brands under its umbrella brand — U.S. Polo Assn. Denim Co., U.S. Polo Assn. Tailored and U.S. Polo Assn. Active.U.S. Polo Assn. Denim Co. includes our range of smart Sunday brunch options for women like crisp shirts, subtle yet smart T-shirts, classic polo T-shirts, jeans, jackets and much more.U.S. Polo Assn. Tailored caters to formal wear. The distinction of U.S. Polo Assn. Tailored from its other sub-brands lies in its attention to classic details. Each article is specially crafted to be inviting, authentic, classic and genuine and is the perfect do-over for your 9-9 work wardrobe. Smart button-downs in classic hues and toned-down prints, well-tailored trousers, blazers, waistcoats, and jackets are just a few from the wide array of categories to choose from.', 'discount': 1, 'images': ['https://rukminim1.flixcart.com/image/128/128/kfr5le80/track-pant/q/s/g/s-i671-125-pl-u-s-polo-association-original-imafw4gxsuyqtzab.jpeg?q=70', 'https://rukminim1.flixcart.com/image/128/128/kfr5le80/track-pant/q/s/g/s-i671-125-pl-u-s-polo-association-original-imafw4gx4xawy3xk.jpeg?q=70', 'https://rukminim1.flixcart.com/image/128/128/kfr5le80/track-pant/q/s/g/xl-i671-125-pl-u-s-polo-association-original-imafw4gxpadn5jtg.jpeg?q=70', 'https://rukminim1.flixcart.com/image/128/128/kfr5le80/track-pant/q/s/g/xl-i671-125-pl-u-s-polo-association-original-imafw4gxhha2gzuz.jpeg?q=70', 'https://rukminim1.flixcart.com/image/128/128/kfr5le80/track-pant/q/s/g/m-i671-125-pl-u-s-polo-association-original-imafw4gxpdpmhk2t.jpeg?q=70'], 'out_of_stock': False, 'pid': 'TKPFW44SHG2VYJBT', 'product_details': [{'Style Code': 'I671-125-PL'}, {'Closure': 'Drawstring, Elastic'}, {'Pockets': 'Side Pockets'}, {'Fabric Care': 'Machine Wash'}, {'Other Details': 'Care Instructions: machine wash, Fabric Composition : 60% Cotton 40% Polyester, Premium combed cotton rich jersey fabric gives extra strength,durability,stability & good color retention., Moisture Management treatment for better breathability, anti-pilling, anti-static properties, Relaxed fit .Can be worn as Loungewear, Leisurewear and comfortwear, Flat Multi color drawcord with branded metal tipping, Dual side pockets with visible zippers, High Density (3D) print branding, Tagless label at the inside back of the garment for all day comfort, Care Instruction - Machine Wash Cold, Do not Bleach, Tumble dry low, Low Iron, Donot iron on print, Wash inside out, Made in India'}, {'Hip in inch': '32 inch'}, {'Waist in inch': '29 inch'}, {'Sales Package': 'lower for women with zipper pocket'}, {'Fabric': 'Cotton Blend'}, {'Pattern': 'Solid'}, {'Color': 'Red'}, {'Generic Name': 'Track Pants'}, {'Country of Origin': 'India'}], 'seller': 'KTM Comfort Wear', 'selling_price': 1.034, 'sub_category': 'Bottomwear', 'title': 'Solid Women Red Track Pants', 'url': 'https://www.flipkart.com/u-s-polo-association-solid-men-red-track-pants/p/itmf512c89f91ab8?pid=TKPFW44SHG2VYJBT&lid=LSTTKPFW44SHG2VYJBTHMJOEE&marketplace=FLIPKART&srno=b_2_78&otracker=browse&fm=organic&iid=b1bddf3d-9c0f-448d-a38e-8ef7a3a5cdd9.TKPFW44SHG2VYJBT.SEARCH&ssid=ihimxvbpb40000001612413446222', 'title_clean': 'solid women red track pant', 'description_clean': 'track pant contrast zipper pocket broad waistband flat multi color draw cord comfort fit us polo assn 3 subbrand umbrella brand us polo assn denim co us polo assn tailor us polo assn activeu polo assn denim co includ rang smart sunday brunch option women like crisp shirt subtl yet smart tshirt classic polo tshirt jean jacket much moreu polo assn tailor cater formal wear distinct us polo assn tailor subbrand lie attent classic detail articl special craft invit authent classic genuin perfect doover 99 work wardrob smart buttondown classic hue toneddown print welltailor trouser blazer waistcoat jacket wide array categori choos', 'metadata_text': 'u.s.polo associati clothing and accessories bottomwear style code i671-125-pl closure drawstring, elastic pockets side pockets fabric care machine wash other details care instructions: machine wash, fabric composition : 60% cotton 40% polyester, premium combed cotton rich jersey fabric gives extra strength,durability,stability & good color retention., moisture management treatment for better breathability, anti-pilling, anti-static properties, relaxed fit .can be worn as loungewear, leisurewear and comfortwear, flat multi color drawcord with branded metal tipping, dual side pockets with visible zippers, high density (3d) print branding, tagless label at the inside back of the garment for all day comfort, care instruction - machine wash cold, do not bleach, tumble dry low, low iron, donot iron on print, wash inside out, made in india hip in inch 32 inch waist in inch 29 inch sales package lower for women with zipper pocket fabric cotton blend pattern solid color red generic name track pants country of origin india ktm comfort wear'}\n",
      "{'_id': '721a81f0-f74a-515a-a182-28f104abd1df', 'actual_price': 3.299, 'average_rating': 3.8, 'brand': 'SEVN', 'category': 'Clothing and Accessories', 'crawled_at': 1612990041000, 'description': 'soft premium cotton. Best suited with denim jeans ,leather jackets . Can be used as regular use tshirt.Henley collor with stylish looks .', 'discount': 80, 'images': ['https://rukminim1.flixcart.com/image/128/128/k7dnonk0/t-shirt/j/9/u/l-s315-c3-blk-grn-red-sevnix-original-imafpm58uggxfq2d.jpeg?q=70', 'https://rukminim1.flixcart.com/image/128/128/k7285u80/t-shirt/2/h/g/m-s315-c1-black-sevnix-original-imafpey6aapfgx83.jpeg?q=70'], 'out_of_stock': False, 'pid': 'TSHFPHPHHDHVKJ9U', 'product_details': [{'Type': 'Henley Neck'}, {'Sleeve': 'Half Sleeve'}, {'Fit': 'Regular'}, {'Fabric': 'Cotton Blend'}, {'Pack of': '3'}, {'Style Code': 's315-c3-blk-grn-red'}, {'Neck Type': 'Henley Neck'}, {'Ideal For': 'Men'}, {'Size': 'XL'}, {'Pattern': 'Solid'}, {'Suitable For': 'Western Wear'}, {'Brand Fit': 'regular'}, {'Sleeve Type': 'Wide'}, {'Fabric Care': 'Reverse and dry'}, {'Brand Color': 'black green red'}, {'Generic Name': 'T Shirts'}, {'Country of Origin': 'India'}], 'seller': 'Madster', 'selling_price': 649.0, 'sub_category': 'Topwear', 'title': 'Solid Men Henley Neck Red T-Shirt\\xa0\\xa0(Pack of 3)', 'url': 'https://www.flipkart.com/sevnix-solid-men-henley-neck-red-t-shirt/p/itm70cd06f640bfb?pid=TSHFPHPHHDHVKJ9U&lid=LSTTSHFPHPHHDHVKJ9UAJOKVO&marketplace=FLIPKART&srno=b_1_20&otracker=browse&fm=organic&iid=f8b67472-c226-4541-918c-b1e2b145044a.TSHFPHPHHDHVKJ9U.SEARCH&ssid=re678bt3pc0000001612413710165', 'title_clean': 'solid men henley neck red tshirtpack 3', 'description_clean': 'soft premium cotton best suit denim jean leather jacket use regular use tshirthenley collor stylish look', 'metadata_text': 'sevn clothing and accessories topwear type henley neck sleeve half sleeve fit regular fabric cotton blend pack of 3 style code s315-c3-blk-grn-red neck type henley neck ideal for men size xl pattern solid suitable for western wear brand fit regular sleeve type wide fabric care reverse and dry brand color black green red generic name t shirts country of origin india madster'}\n",
      "{'_id': 'fb54da44-5af2-5861-b30f-2a1e09fc9af4', 'actual_price': 3.299, 'average_rating': 3.8, 'brand': 'SEVN', 'category': 'Clothing and Accessories', 'crawled_at': 1612990044000, 'description': 'soft premium cotton. Best suited with denim jeans ,leather jackets . Can be used as regular use tshirt.Henley collor with stylish looks .', 'discount': 80, 'images': ['https://rukminim1.flixcart.com/image/128/128/k7dnonk0/t-shirt/3/r/t/l-s315-c3-blk-red-wht-sevnix-original-imafpm582hvwuypt.jpeg?q=70', 'https://rukminim1.flixcart.com/image/128/128/k7285u80/t-shirt/2/h/g/m-s315-c1-black-sevnix-original-imafpey6aapfgx83.jpeg?q=70'], 'out_of_stock': False, 'pid': 'TSHFPHPHG2MFBTER', 'product_details': [{'Type': 'Henley Neck'}, {'Sleeve': 'Half Sleeve'}, {'Fit': 'Regular'}, {'Fabric': 'Cotton Blend'}, {'Pack of': '3'}, {'Style Code': 's315-c3-blk-RED-WHT'}, {'Neck Type': 'Henley Neck'}, {'Ideal For': 'Women'}, {'Size': 'M'}, {'Pattern': 'Solid'}, {'Suitable For': 'Western Wear'}, {'Brand Fit': 'regular'}, {'Sleeve Type': 'Wide'}, {'Fabric Care': 'Reverse and dry'}, {'Brand Color': 'black red white'}, {'Generic Name': 'T Shirts'}, {'Country of Origin': 'India'}], 'seller': 'Madster', 'selling_price': 649.0, 'sub_category': 'Topwear', 'title': 'Solid Women Henley Neck Red, Black T-Shirt\\xa0\\xa0(Pack of 3)', 'url': 'https://www.flipkart.com/sevnix-solid-men-henley-neck-red-black-t-shirt/p/itm8fdc9fa6e872d?pid=TSHFPHPHG2MFBTER&lid=LSTTSHFPHPHG2MFBTEREOBD0V&marketplace=FLIPKART&srno=b_1_24&otracker=browse&fm=organic&iid=f8b67472-c226-4541-918c-b1e2b145044a.TSHFPHPHG2MFBTER.SEARCH&ssid=re678bt3pc0000001612413710165', 'title_clean': 'solid women henley neck red black tshirtpack 3', 'description_clean': 'soft premium cotton best suit denim jean leather jacket use regular use tshirthenley collor stylish look', 'metadata_text': 'sevn clothing and accessories topwear type henley neck sleeve half sleeve fit regular fabric cotton blend pack of 3 style code s315-c3-blk-red-wht neck type henley neck ideal for women size m pattern solid suitable for western wear brand fit regular sleeve type wide fabric care reverse and dry brand color black red white generic name t shirts country of origin india madster'}\n",
      "{'_id': '1435b589-7538-50e6-bcbc-002e7e7f0fc0', 'actual_price': 1.398, 'average_rating': 3.8, 'brand': 'ModeWa', 'category': 'Clothing and Accessories', 'crawled_at': 1612991434000, 'description': 'Mark your solid impressions with ours ultra-soft, t-shirt. Wear this t-shirt. Place in many ways with dark jeans, cuffed chinos. Its 100% soft cotton, solid color. Machine wash t-shirt, the material moves in every direction. Looks cool in every type of jacket so you look cool in winters as well. Its super dry and ultra-fashionable hooded must have t-shirt in your wardrobe.', 'discount': 64, 'images': ['https://rukminim1.flixcart.com/image/128/128/kdhphu80-0/t-shirt/6/e/i/m-yt-tshrt-485-ytrick-original-imafudud8hyczzuz.jpeg?q=70', 'https://rukminim1.flixcart.com/image/128/128/kdhphu80-0/t-shirt/s/9/c/s-yt-tshrt-412-ytrick-original-imafudtxufm8ntnz.jpeg?q=70', 'https://rukminim1.flixcart.com/image/128/128/kdhphu80/t-shirt/h/o/s/xl-yt-tshrt-359-ytrick-original-imafudtx34n4xfc6.jpeg?q=70'], 'out_of_stock': False, 'pid': 'TSHFW7F492XGP6JR', 'product_details': [{'Type': 'Polo Neck'}, {'Sleeve': 'Half Sleeve'}, {'Fit': 'Regular'}, {'Fabric': 'Cotton Blend'}, {'Pack of': '2'}, {'Style Code': 'LAMANA61'}, {'Neck Type': 'Polo Neck'}, {'Ideal For': 'Women'}, {'Size': 'S'}, {'Pattern': 'Solid'}, {'Suitable For': 'Western Wear'}, {'Fabric Care': 'Do not bleach'}, {'Brand Color': 'Orange'}, {'Generic Name': 'T Shirts'}, {'Country of Origin': 'India'}], 'seller': 'MP TRADERS 510', 'selling_price': 495.0, 'sub_category': 'Topwear', 'title': 'Solid Women Polo Neck Red, Orange T-Shirt\\xa0\\xa0(Pack of 2)', 'url': 'https://www.flipkart.com/modeways-solid-men-polo-neck-red-orange-t-shirt/p/itmb4fd6417967dd?pid=TSHFW7F492XGP6JR&lid=LSTTSHFW7F492XGP6JRI8IIMS&marketplace=FLIPKART&srno=b_3_81&otracker=browse&fm=organic&iid=1f109aad-57be-4b65-b08f-0b221d5838bd.TSHFW7F492XGP6JR.SEARCH&ssid=nh23156r9s0000001612114515186', 'title_clean': 'solid women polo neck red orang tshirtpack 2', 'description_clean': 'mark solid impress ultrasoft tshirt wear tshirt place mani way dark jean cuf chino 100 soft cotton solid color machin wash tshirt materi move everi direct look cool everi type jacket look cool winter well super dri ultrafashion hood must tshirt wardrob', 'metadata_text': 'modewa clothing and accessories topwear type polo neck sleeve half sleeve fit regular fabric cotton blend pack of 2 style code lamana61 neck type polo neck ideal for women size s pattern solid suitable for western wear fabric care do not bleach brand color orange generic name t shirts country of origin india mp traders 510'}\n",
      "\n",
      "Matching documents with features ['pink', 'stripe', 'shirt'] :\n",
      "{'_id': 'e3c2ce9d-16a4-5d26-8452-08cef55a3ab7', 'actual_price': 599.0, 'average_rating': 4.3, 'brand': 'Byford by Pantaloo', 'category': 'Clothing and Accessories', 'crawled_at': 1612998417000, 'description': \"Men's casual striped T shirt featuring a collared neck, half sleeves and a regular fit. It is crafted from fine cotton blend.\", 'discount': 20, 'images': ['https://rukminim1.flixcart.com/image/128/128/k0e66q80/t-shirt/x/b/m/xl-110053930coral-byford-by-pantaloons-original-imafk6gvhpfedf2h.jpeg?q=70', 'https://rukminim1.flixcart.com/image/128/128/k0e66q80/t-shirt/x/b/m/xl-110053930coral-byford-by-pantaloons-original-imafk6gvhxbp5sdq.jpeg?q=70', 'https://rukminim1.flixcart.com/image/128/128/k0e66q80/t-shirt/x/b/m/xl-110053930coral-byford-by-pantaloons-original-imafk6gvfwn89ytc.jpeg?q=70', 'https://rukminim1.flixcart.com/image/128/128/k0e66q80/t-shirt/x/b/m/xl-110053930coral-byford-by-pantaloons-original-imafk6gvscqhgcey.jpeg?q=70', 'https://rukminim1.flixcart.com/image/128/128/k0e66q80/t-shirt/x/b/m/xl-110053930coral-byford-by-pantaloons-original-imafk6gvc3h2vfjz.jpeg?q=70', 'https://rukminim1.flixcart.com/image/128/128/k0e66q80/t-shirt/x/b/m/xl-110053930coral-byford-by-pantaloons-original-imafk6gva77mjqn2.jpeg?q=70', 'https://rukminim1.flixcart.com/image/128/128/k0e66q80/t-shirt/x/b/m/xl-110053930coral-byford-by-pantaloons-original-imafk6gvnvzhr8uy.jpeg?q=70'], 'out_of_stock': False, 'pid': 'TSHFK68GQPGQEVZK', 'product_details': [{'Type': 'Polo Neck'}, {'Sleeve': 'Short Sleeve'}, {'Fit': 'Slim'}, {'Fabric': 'Cotton Blend'}, {'Sales Package': '1 T-shirt'}, {'Pack of': '1'}, {'Style Code': '110053930CORAL'}, {'Neck Type': 'Polo Neck'}, {'Ideal For': 'Men'}, {'Size': 'M'}, {'Pattern': 'Striped'}, {'Suitable For': 'Western Wear'}, {'Brand Fit': 'Slim Fit'}, {'Fabric Care': 'Machine wash as per tag'}, {'Brand Color': 'CORAL'}], 'seller': 'AUM3ETAIL', 'selling_price': 479.0, 'sub_category': 'Topwear', 'title': 'Striped Men Polo Neck Pink T-Shirt', 'url': 'https://www.flipkart.com/byford-pantaloons-striped-men-polo-neck-pink-t-shirt/p/itm951930270ecec?pid=TSHFK68GQPGQEVZK&lid=LSTTSHFK68GQPGQEVZKRVFZ48&marketplace=FLIPKART&srno=b_1_21&otracker=browse&fm=organic&iid=98c379bb-2091-4c37-a3ae-a74ebab57fe9.TSHFK68GQPGQEVZK.SEARCH&ssid=suuc275k0g0000001612099860265', 'title_clean': 'stripe men polo neck pink tshirt', 'description_clean': 'men casual stripe shirt featur collar neck half sleev regular fit craft fine cotton blend', 'metadata_text': 'byford by pantaloo clothing and accessories topwear type polo neck sleeve short sleeve fit slim fabric cotton blend sales package 1 t-shirt pack of 1 style code 110053930coral neck type polo neck ideal for men size m pattern striped suitable for western wear brand fit slim fit fabric care machine wash as per tag brand color coral aum3etail'}\n",
      "\n",
      "Matching documents with features ['sock', 'stripe', 'grey'] :\n",
      "{'_id': '11f5bf52-b4e1-5953-b654-e123d08aadc8', 'actual_price': 499.0, 'average_rating': 4.4, 'brand': 'REEB', 'category': 'Clothing and Accessories', 'crawled_at': 1612988883000, 'description': \"These elegant, well-designed socks are breathable so you can keep cool and stylish without sacrificing comfort. The light sheen of this Original Cotton, Nylon and Elastane blend fabric makes it look more expensive than actual economic Price. Stay true to your style in, Collegiate Navy  with this cool shade. Add a style punch to your wardrobe with this pattern design. Made with a soft and durable Original Cotton, Nylon and Elastane blend for no-fuss comfort. Stay comfortable and warn with this all-season design that's made for all types of weather. The practical calf length style provides warmth and coverage that works for day or night. These simple, breathable and stylish women's socks are just what you need for everyday wear. A Original Cotton, Nylon and Elastane blend is soft against the skin and resistant to shrinking and damage. Available in a trendy, Medium Grey Heather colour that goes with anything. Show off your personality with this pattern design. You’ll appreciate warmth and durability of this Original Cotton, Nylon and Elastane blend material. Bundle up when it's cold and cool down when it's hot with this all-season design that’s has removable insulation. Add a comfortable finishing touch to any outfit with this warm and wearable calf length style. Stock up on women's socks with this practical pair that will look and feel great all day long. The Original Cotton, Nylon and Elastane blend fabric is less likely to wrinkle, making it easier to care for than other more delicate fabrics. Designed to complement and match any wardrobe in a neutral shade of  White. Let your outfit steal the show with this bold pattern design. Stylish and practical, the Original Cotton, Nylon and Elastane blend offers a warm, cozy feel and a fashionable look. The all-season design means that you don't have to buy multiple items to weather the changing seasons. A versatile fit that works in any setting, the calf length style is suitable for work or play. Engineered to endure your complex fitness regimes, these Reebok calf length socks for women and women help you remain comfortable all day long. Arch support provides extra comfort and better grip. Extended rib structure for better support. Mesh for enhanced breathability. They come in a pack of three pairs.Keep your feet cool  in these calf length training socks. They feature supportive compression at the arch. Breathable Climacool manages heat and moisture, and mesh inserts provide targeted ventilation. A grippy footbed offers secure traction inside your shoe.\", 'discount': 5, 'images': ['https://rukminim1.flixcart.com/image/128/128/k73nlow0/sock/p/z/q/free-rdr-9166-reebok-original-imafpezwyq3sxzrd.jpeg?q=70', 'https://rukminim1.flixcart.com/image/128/128/kfzq8i80-0/sock/u/b/c/free-rdr-9166-reebok-original-imafwbt2yzzsbbjq.jpeg?q=70', 'https://rukminim1.flixcart.com/image/128/128/ki96c280-0/sock/a/h/k/free-rdr-9166-reebok-original-imafy2x4kdxgzswg.jpeg?q=70', 'https://rukminim1.flixcart.com/image/128/128/kkmwr680/sock/h/n/q/free-3-rdr-9166-reebok-original-imafy2x4zxmtpaf2.jpeg?q=70', 'https://rukminim1.flixcart.com/image/128/128/ki96c280-0/sock/v/u/g/free-rdr-9166-reebok-original-imafy2x4ftapucb8.jpeg?q=70'], 'out_of_stock': False, 'pid': 'SOCFPDZHSMMY8PZQ', 'product_details': [{'Color': 'Multicolor'}, {'Pattern': 'Striped'}, {'Ideal For': 'Women'}, {'Fabric': '50.9% Cotton,46.1% Nylon,3.0% Elastane'}, {'Type': 'Ankle Length Socks'}, {'Series': 'Core'}, {'Number of Contents in Sales Package': 'Pack of 3'}, {'': 'Cold Water Normal Wash'}, {'Style Code': 'RDR-9166'}, {'Other Details': '100% Original Products from Brand, Product Quality Assured, Sports Socks, Athletic, 3 Pairs Of Socks'}, {' ': 'Pack of 3 Pairs (6 Socks)'}], 'seller': 'Fortune Groupz', 'selling_price': 474.0, 'sub_category': 'Clothing Accessories', 'title': 'Original Cotton Flat Knit Women Striped Ankle Length\\xa0\\xa0(Pack of 3)', 'url': 'https://www.flipkart.com/reebok-original-cotton-flat-knit-men-striped-ankle-length/p/itm75889e4cd7ec5?pid=SOCFPDZHSMMY8PZQ&lid=LSTSOCFPDZHSMMY8PZQCGROSX&marketplace=FLIPKART&srno=b_1_34&otracker=browse&fm=organic&iid=d09a3859-179d-4bac-876a-695470c10de2.SOCFPDZHSMMY8PZQ.SEARCH&ssid=z70684mjqo0000001612412474221', 'title_clean': 'origin cotton flat knit women stripe ankl lengthpack 3', 'description_clean': 'eleg welldesign sock breathabl keep cool stylish without sacrif comfort light sheen origin cotton nylon elastan blend fabric make look expens actual econom price stay true style collegi navi cool shade add style punch wardrob pattern design made soft durabl origin cotton nylon elastan blend nofuss comfort stay comfort warn allseason design that made type weather practic calf length style provid warmth coverag work day night simpl breathabl stylish women sock need everyday wear origin cotton nylon elastan blend soft skin resist shrink damag avail trendi medium grey heather colour goe anyth show person pattern design youll appreci warmth durabl origin cotton nylon elastan blend materi bundl cold cool hot allseason design that remov insul add comfort finish touch outfit warm wearabl calf length style stock women sock practic pair look feel great day long origin cotton nylon elastan blend fabric less like wrinkl make easier care delic fabric design complement match wardrob neutral shade white let outfit steal show bold pattern design stylish practic origin cotton nylon elastan blend offer warm cozi feel fashion look allseason design mean dont buy multipl item weather chang season versatil fit work set calf length style suitabl work play engin endur complex fit regim reebok calf length sock women women help remain comfort day long arch support provid extra comfort better grip extend rib structur better support mesh enhanc breathabl come pack three pairskeep feet cool calf length train sock featur support compress arch breathabl climacool manag heat moistur mesh insert provid target ventil grippi footb offer secur traction insid shoe', 'metadata_text': 'reeb clothing and accessories clothing accessories color multicolor pattern striped ideal for women fabric 50.9% cotton,46.1% nylon,3.0% elastane type ankle length socks series core number of contents in sales package pack of 3  cold water normal wash style code rdr-9166 other details 100% original products from brand, product quality assured, sports socks, athletic, 3 pairs of socks   pack of 3 pairs (6 socks) fortune groupz'}\n",
      "\n",
      "Matching documents with features ['sport', 'shoe', 'red'] :\n",
      "{'_id': '2fcf658a-54f5-5041-b86c-401a330b328b', 'actual_price': 499.0, 'average_rating': 3.9, 'brand': 'Vector', 'category': 'Footwear', 'crawled_at': 1612990243000, 'description': 'Vector X is one of the established sports brands who provide stylish and innovative sports gear to most of the aspiring sport players as well as others. As a brand they have produced thousands of spectacular gear which have been used by numerous renowned', 'discount': 9, 'images': ['https://rukminim1.flixcart.com/image/128/128/shoe/a/6/f/white-fusion-kids-vector-x-13-original-imae8qaus7nfeaud.jpeg?q=70', 'https://rukminim1.flixcart.com/image/128/128/shoe/j/c/a/white-fusion-red-2-vector-x-7-original-imae8rbbqhjjvfa3.jpeg?q=70'], 'out_of_stock': False, 'pid': 'SHOEAZF5M3VE4JCA', 'product_details': [{'Color': 'Red, White'}, {'Outer Material': 'PVC'}, {'Model Name': 'Fusion White Red'}, {'Ideal For': 'Men'}, {'Occasion': 'Sports'}, {'School Shoe': 'No'}, {'Generic Name': 'Shoe'}, {'Country of Origin': 'India'}], 'seller': 'SOCCERINTERNATIONAL', 'selling_price': 450.0, 'sub_category': \"Men's Footwear\", 'title': 'Fusion White Red Football Shoes For Men\\xa0\\xa0(Red, White)', 'url': 'https://www.flipkart.com/vector-x-fusion-white-red-football-shoes-men/p/itmf3yy7nytrudnz?pid=SHOEAZF5M3VE4JCA&lid=LSTSHOEAZF5M3VE4JCAWERDPE&marketplace=FLIPKART&srno=b_1_26&otracker=nmenu_sub_Men_0_Footwear&fm=organic&iid=be8a8bfc-c717-4c6b-9afd-958318cc9016.SHOEAZF5M3VE4JCA.SEARCH&ssid=jdpf8rcxww0000001612688546998', 'title_clean': 'fusion white red footbal shoe menr white', 'description_clean': 'vector x one establish sport brand provid stylish innov sport gear aspir sport player well other brand produc thousand spectacular gear use numer renown', 'metadata_text': \"vector footwear men's footwear color red, white outer material pvc model name fusion white red ideal for men occasion sports school shoe no generic name shoe country of origin india soccerinternational\"}\n",
      "{'_id': '11f35b50-98e4-5d6e-81d6-b1b61c2820be', 'actual_price': 1.599, 'average_rating': None, 'brand': 'Vector', 'category': 'Footwear', 'crawled_at': 1612990360000, 'description': 'Vector x is one of the established sports brands who provide stylish and innovative sports gear to most of the aspiring sport players as well as others. As a brand they have produced thousands of spectacular gear which have been used by numerous renowned sport personalities. Football, volleyball, basketball, cricket, tennis, badminton and squash are the sports in whose accessories and gear they deal in regularly.', 'discount': 21, 'images': ['https://rukminim1.flixcart.com/image/128/128/kgb5rbk0-0/shoe/m/g/v/rs-5050-red-navy-7-vector-x-red-navy-original-imafwjzttymztjke.jpeg?q=70', 'https://rukminim1.flixcart.com/image/128/128/kgb5rbk0-0/shoe/k/h/q/rs-5050-red-navy-7-vector-x-red-navy-original-imafwjztffz9txzw.jpeg?q=70', 'https://rukminim1.flixcart.com/image/128/128/kgb5rbk0-0/shoe/8/h/s/rs-5050-red-navy-7-vector-x-red-navy-original-imafwjzt85dgjhtg.jpeg?q=70', 'https://rukminim1.flixcart.com/image/128/128/kgb5rbk0-0/shoe/t/o/f/rs-5050-red-navy-7-vector-x-red-navy-original-imafwjztdmeygj5g.jpeg?q=70', 'https://rukminim1.flixcart.com/image/128/128/kgb5rbk0-0/shoe/o/t/n/rs-5050-red-navy-7-vector-x-red-navy-original-imafwjztybxfh3dr.jpeg?q=70', 'https://rukminim1.flixcart.com/image/128/128/kgb5rbk0-0/shoe/l/w/v/rs-5050-red-navy-7-vector-x-red-navy-original-imafwjzta7v4xgec.jpeg?q=70', 'https://rukminim1.flixcart.com/image/128/128/kgb5rbk0-0/shoe/n/1/e/rs-5050-red-navy-7-vector-x-red-navy-original-imafwjztyyzvfjtp.jpeg?q=70'], 'out_of_stock': False, 'pid': 'SHOF9F5GZXPT6QFN', 'product_details': [{'Color': 'Navy, Red'}, {'Outer Material': 'Mesh, Textile'}, {'Model Name': 'RS-5050'}, {'Ideal For': 'Women'}, {'Occasion': 'Sports'}, {'Sole Material': 'PHYLON, RUBBER'}, {'Generic Name': 'Shoe'}, {'Country of Origin': 'India'}], 'seller': 'Quick Bounce Sports (Not Enough Ratin', 'selling_price': 1.249, 'sub_category': \"Men's Footwear\", 'title': 'RS-5050 Running Shoes For Women\\xa0\\xa0(Navy, Red)', 'url': 'https://www.flipkart.com/vector-x-rs-5050-running-shoes-men/p/itmf9fpnrkh9ng6n?pid=SHOF9F5GZXPT6QFN&lid=LSTSHOF9F5GZXPT6QFN4MLBZL&marketplace=FLIPKART&srno=b_5_195&otracker=nmenu_sub_Men_0_Footwear&fm=organic&iid=2c9c6405-15f7-4765-be59-536d21002294.SHOF9F5GZXPT6QFN.SEARCH&ssid=z6yjmdcc8w0000001612688550527', 'title_clean': 'rs5050 run shoe womennavi red', 'description_clean': 'vector x one establish sport brand provid stylish innov sport gear aspir sport player well other brand produc thousand spectacular gear use numer renown sport person footbal volleybal basketbal cricket tenni badminton squash sport whose accessori gear deal regularli', 'metadata_text': \"vector footwear men's footwear color navy, red outer material mesh, textile model name rs-5050 ideal for women occasion sports sole material phylon, rubber generic name shoe country of origin india quick bounce sports (not enough ratin\"}\n",
      "{'_id': '25107d21-a0a6-5c84-b686-416907c321a0', 'actual_price': 499.0, 'average_rating': 3.7, 'brand': 'Vector', 'category': 'Footwear', 'crawled_at': 1612990260000, 'description': 'Vector X is one of the established sports brands who provide stylish and innovative sports gear to most of the aspiring sport players as well as others. As a brand they have produced thousands of spectacular gear which have been used by numerous renowned', 'discount': 9, 'images': ['https://rukminim1.flixcart.com/image/128/128/shoe/c/h/d/white-red-fusion-vector-x-7-original-imaehcstcg6gyrkp.jpeg?q=70', 'https://rukminim1.flixcart.com/image/128/128/shoe/a/6/f/white-fusion-kids-vector-x-13-original-imae8qaus7nfeaud.jpeg?q=70', 'https://rukminim1.flixcart.com/image/128/128/shoe/c/h/d/white-red-fusion-vector-x-7-original-imaehcstxtnxrmvk.jpeg?q=70', 'https://rukminim1.flixcart.com/image/128/128/shoe/j/c/a/white-fusion-red-2-vector-x-7-original-imae8rbbqhjjvfa3.jpeg?q=70', 'https://rukminim1.flixcart.com/image/128/128/shoe/c/h/d/white-red-fusion-vector-x-7-original-imaehcst4hqrg6zw.jpeg?q=70', 'https://rukminim1.flixcart.com/image/128/128/shoe/c/h/d/white-red-fusion-vector-x-7-original-imaehcstkfygzcx7.jpeg?q=70', 'https://rukminim1.flixcart.com/image/128/128/shoe/c/h/d/white-red-fusion-vector-x-7-original-imaehcsu3sqy7uyb.jpeg?q=70'], 'out_of_stock': False, 'pid': 'SHOEAFZ79ZF4FKGH', 'product_details': [{'Color': 'Red, White'}, {'Outer Material': 'PVC'}, {'Model Name': 'Fusion White Red'}, {'Ideal For': 'Women'}, {'Occasion': 'Sports'}, {'School Shoe': 'No'}, {'Secondary Color': 'Red'}, {'Closure': 'Lace-Ups'}, {'Upper Pattern': 'Colourblocked'}, {'Generic Name': 'Shoe'}, {'Country of Origin': 'India'}], 'seller': 'SOCCERINTERNATIONAL', 'selling_price': 450.0, 'sub_category': \"Men's Footwear\", 'title': 'Fusion White Red Football Shoes For Women\\xa0\\xa0(Red, White)', 'url': 'https://www.flipkart.com/vector-x-fusion-white-red-football-shoes-men/p/itmf3yybhxytgbgy?pid=SHOEAFZ79ZF4FKGH&lid=LSTSHOEAFZ79ZF4FKGHAHFDSE&marketplace=FLIPKART&srno=b_2_54&otracker=nmenu_sub_Men_0_Footwear&fm=organic&iid=ed342989-9f17-43c2-b620-87aa4485e449.SHOEAFZ79ZF4FKGH.SEARCH&ssid=3u6pawgow00000001612688548473', 'title_clean': 'fusion white red footbal shoe womenr white', 'description_clean': 'vector x one establish sport brand provid stylish innov sport gear aspir sport player well other brand produc thousand spectacular gear use numer renown', 'metadata_text': \"vector footwear men's footwear color red, white outer material pvc model name fusion white red ideal for women occasion sports school shoe no secondary color red closure lace-ups upper pattern colourblocked generic name shoe country of origin india soccerinternational\"}\n",
      "{'_id': '7c142e88-2d96-5fc2-a1e8-6f8979b74063', 'actual_price': 499.0, 'average_rating': 3.7, 'brand': 'Vector', 'category': 'Footwear', 'crawled_at': 1612990348000, 'description': '\\r\\n\\tTearing it up on the field with this pair of red Fusion football shoes from Vector X; it delivers in terms of style with its cut work detail and flap detail on the vamp, while your shoes do all the running with its textured sole that provide much better agility. Team this with white shorts and a polo neck t-shirt.\\n\\r\\n\\tCoveting intelligent design for their sports footwear, Vector X comes highly recommended by amateur and professional athletes because of its durable quality and everlasting comfort.\\n\\nFootwear Care\\n\\r\\n\\tAir the shoes out after every use. Wipe clean with soft cloth.\\n', 'discount': 3, 'images': ['https://rukminim1.flixcart.com/image/128/128/shoe/b/w/m/red-fusion-vector-x-8-original-imadqz95dcyfdn6q.jpeg?q=70', 'https://rukminim1.flixcart.com/image/128/128/shoe/b/w/m/red-fusion-vector-x-8-original-imadqz95krbzkfa7.jpeg?q=70', 'https://rukminim1.flixcart.com/image/128/128/shoe/b/w/m/red-fusion-vector-x-8-original-imadqz95c64g2keh.jpeg?q=70', 'https://rukminim1.flixcart.com/image/128/128/shoe/b/w/m/red-fusion-vector-x-8-original-imadqz95qvdfnggr.jpeg?q=70', 'https://rukminim1.flixcart.com/image/128/128/shoe/b/w/m/red-fusion-vector-x-8-original-imadqz955hd7fzqn.jpeg?q=70', 'https://rukminim1.flixcart.com/image/128/128/shoe/b/w/m/red-fusion-vector-x-8-original-imadqz95ffn5aybj.jpeg?q=70'], 'out_of_stock': False, 'pid': 'SHODPFXM9NUHNQXW', 'product_details': [{'Color': 'Red'}, {'Outer Material': 'PVC'}, {'Model Name': 'Fusion'}, {'Ideal For': 'Women'}, {'Occasion': 'Sports'}, {'Secondary Color': 'Red'}, {'Closure': 'Lace-Ups'}, {'Weight': '277 gm (per single Shoe) - Weight of the product may vary depending on size.'}, {'Style': 'Raised Ankle, Panel and Stitch Detail, Flap Detail on Vamp, Cut Work Detail'}, {'Tip Shape': 'Round'}, {'Season': 'AW 13'}, {'Generic Name': 'Shoe'}, {'Country of Origin': 'India'}], 'seller': 'FORBESKART', 'selling_price': 480.0, 'sub_category': \"Men's Footwear\", 'title': 'Fusion Football Shoes For Women\\xa0\\xa0(Red)', 'url': 'https://www.flipkart.com/vector-x-fusion-football-shoes-men/p/itmf3yy5uznmxhas?pid=SHODPFXM9NUHNQXW&lid=LSTSHODPFXM9NUHNQXWFGNJG3&marketplace=FLIPKART&srno=b_5_173&otracker=nmenu_sub_Men_0_Footwear&fm=organic&iid=2c9c6405-15f7-4765-be59-536d21002294.SHODPFXM9NUHNQXW.SEARCH&ssid=z6yjmdcc8w0000001612688550527', 'title_clean': 'fusion footbal shoe womenr', 'description_clean': 'tear field pair red fusion footbal shoe vector x deliv term style cut work detail flap detail vamp shoe run textur sole provid much better agil team white short polo neck tshirt covet intellig design sport footwear vector x come highli recommend amateur profession athlet durabl qualiti everlast comfort footwear care air shoe everi use wipe clean soft cloth', 'metadata_text': \"vector footwear men's footwear color red outer material pvc model name fusion ideal for women occasion sports secondary color red closure lace-ups weight 277 gm (per single shoe) - weight of the product may vary depending on size. style raised ankle, panel and stitch detail, flap detail on vamp, cut work detail tip shape round season aw 13 generic name shoe country of origin india forbeskart\"}\n",
      "{'_id': '73f8582a-c432-51d8-b69f-f425f248a447', 'actual_price': 439.0, 'average_rating': 3.6, 'brand': 'Pu', 'category': 'Clothing and Accessories', 'crawled_at': 1613005397000, 'description': 'This is an original Puma Mens Sports Cotton Socks that come in its authentic packing (as shown in product image) for the Indian market, including the red color cardboard sleeve holding the 3 pairs together. To purchase genuine PUMA socks without visiting a physical store, order online now.  This value pack of 3 pairs of solid colors – white, black and grey – provides great choice and convenience of use. Now go ahead and wear a fresh PUMA sport sock every day. The choice of 3 versatile colors, including the classic white, means that you can also rotate them with different styles of footwear. Buy online now to add this sport lifestyle item to your collection and have fun!  These sport socks are made of soft cotton and are designed for comfort. The flat toe seam does away with irritable seams and gives a smoother feel to the toes. The cushioned sole offers protection and a soft, comfortable feeling. Cotton helps by absorbing the moisture & aids in keeping your feet dry. Nylon brings durability and Elastane makes them stretchable. If you are looking for durable yet comfortable sport socks, order this pack of 3.  Because of its stretch feature, this Puma Sport Socks can be worn by both boys and men with different foot (or shoe) sizes. Theses sport socks are suitable for EU size 39-42, which covers India feet size of 6 to 9.  And the regular crew design means that the PUMA Cotton Sport Socks cover you till the mid-calf length. This crew design offers special benefits like absorbing the sweat running down your leg and preventing it from coming into your shoe. It offers added protection against abrasion form shrubs, bushes and plant leaves, especially if you are in off-road conditions. And if coolers days or winters are around the corner, the crew design provides added insulation and a warm, comfortable feeling.  The design and material makes these socks a good choice for many outdoor activities including walking, running, hiking, cycling, sports like football and cricket, as well as athletic activities. These socks can be used for casual wear as well.  Why wait to own your Original PUMA Sport Socks? Buy online this pack of 3 multicolor socks now.', 'discount': 55, 'images': ['https://rukminim1.flixcart.com/image/128/128/jmnrtzk0-1/sock/g/a/d/free-in91071102-puma-original-imaf9fggzdfhpdd8.jpeg?q=70', 'https://rukminim1.flixcart.com/image/128/128/jmnrtzk0-1/sock/g/a/d/free-in91071102-puma-original-imaf9fgg4fvp9dyc.jpeg?q=70', 'https://rukminim1.flixcart.com/image/128/128/jmp79u80/sock/g/a/d/free-in91071102-puma-original-imaf9fggz7qzm8yy.jpeg?q=70', 'https://rukminim1.flixcart.com/image/128/128/jmp79u80/sock/g/a/d/free-in91071102-puma-original-imaf9fgkyc4pvubj.jpeg?q=70', 'https://rukminim1.flixcart.com/image/128/128/jmp79u80/sock/g/a/d/free-in91071102-puma-original-imaf9fgktchgjtuz.jpeg?q=70'], 'out_of_stock': False, 'pid': 'SOCF9GGDHSRJUGAD', 'product_details': [{'Color': 'Multicolor'}, {'Pattern': 'Solid'}, {'Ideal For': 'Men'}, {'Fabric': 'Cotton Blend, Nylon, Lycra Blend'}, {'Type': 'Mid-Calf/Crew Socks'}, {'Series': 'Sports'}, {'Number of Contents in Sales Package': 'Pack of 3'}, {'': 'Normal Wash. Do Not Use Brush'}, {'Style Code': 'IN91071102'}, {'Other Details': \"Great For Sports, Running, Playing and Casual Use. In Cool Weather, Wear These Original Puma Men's Cotton Socks to Cover your Feet & Enjoy A Comfortable Feeling.\"}, {' ': '3 socks'}, {' ': 'No Warranty. Not Applicable'}, {'Generic Name': 'Socks'}, {'Country of Origin': 'India'}], 'seller': 'Bestrane', 'selling_price': 197.0, 'sub_category': 'Clothing Accessories', 'title': 'Men Solid Mid-Calf/Crew\\xa0\\xa0(Pack of 3)', 'url': 'https://www.flipkart.com/puma-men-solid-mid-calf-crew/p/itmca0aa07a0f684?pid=SOCF9GGDHSRJUGAD&lid=LSTSOCF9GGDHSRJUGADBH4GFT&marketplace=FLIPKART&srno=b_1_6&otracker=browse&fm=organic&iid=2bbbf031-84bf-4227-8bb1-7f49ac25c80e.SOCF9GGDHSRJUGAD.SEARCH&ssid=yxr393zq2o0000001612411593591', 'title_clean': 'men solid midcalfcrewpack 3', 'description_clean': 'origin puma men sport cotton sock come authent pack shown product imag indian market includ red color cardboard sleev hold 3 pair togeth purchas genuin puma sock without visit physic store order onlin valu pack 3 pair solid color white black grey provid great choic conveni use go ahead wear fresh puma sport sock everi day choic 3 versatil color includ classic white mean also rotat differ style footwear buy onlin add sport lifestyl item collect fun sport sock made soft cotton design comfort flat toe seam away irrit seam give smoother feel toe cushion sole offer protect soft comfort feel cotton help absorb moistur aid keep feet dri nylon bring durabl elastan make stretchabl look durabl yet comfort sport sock order pack 3 stretch featur puma sport sock worn boy men differ foot shoe size these sport sock suitabl eu size 3942 cover india feet size 6 9 regular crew design mean puma cotton sport sock cover till midcalf length crew design offer special benefit like absorb sweat run leg prevent come shoe offer ad protect abras form shrub bush plant leav especi offroad condit cooler day winter around corner crew design provid ad insul warm comfort feel design materi make sock good choic mani outdoor activ includ walk run hike cycl sport like footbal cricket well athlet activ sock use casual wear well wait origin puma sport sock buy onlin pack 3 multicolor sock', 'metadata_text': \"pu clothing and accessories clothing accessories color multicolor pattern solid ideal for men fabric cotton blend, nylon, lycra blend type mid-calf/crew socks series sports number of contents in sales package pack of 3  normal wash. do not use brush style code in91071102 other details great for sports, running, playing and casual use. in cool weather, wear these original puma men's cotton socks to cover your feet & enjoy a comfortable feeling.   3 socks   no warranty. not applicable generic name socks country of origin india bestrane\"}\n",
      "\n",
      "Matching documents with features ['blue', 'red', 'yellow'] :\n",
      "{'_id': '062224cc-983c-50c2-be12-8ace37d7ae5e', 'actual_price': 1.799, 'average_rating': 3.9, 'brand': 'Keo', 'category': 'Clothing and Accessories', 'crawled_at': 1613006569000, 'description': \"EXPERIENCE THE AMAZING COMFORT OF A KEOTI POLO T-SHIRTS We know how it is as a busy student, father, or office worker. Some days getting dressed simply takes up too much time and you need something to throw on that looks simple and presentable. You don't want anything too fancy, just a cute and non-descript top that you can wear while you're on-the-go. This Polo T Shirt is exactly that! It's a great shirt for the everyday women to wear, anytime! This shirt is a necessary staple in everyday life. It is very versatile and can be worn in office environments, classrooms, and even during your errands or athletics activities. It's even machine washable, so all you need to do is toss it in the wash machine! THE KEOTI POLO T SHIRT IS MADE FOR FALL, SPRING, AND SUMMER! This great T-shirts was designed with you in mind! It has chambray seam finishes and a front button. It's even made 60% Cotton and 40% Polyester, so it is very lightweight and breathable. You can easily use this T-shirt as a great transitional piece for fall, spring, and summer! PRODUCT INFORMATION: Made of 60% Cotton and 40% Polyester Front Button Machine Washable.\", 'discount': 63, 'images': ['https://rukminim1.flixcart.com/image/128/128/jvtujrk0/t-shirt/y/f/z/xxl-dn-t-po-red-blu-ylw-3p-freely-original-imafgazec8mtehju.jpeg?q=70', 'https://rukminim1.flixcart.com/image/128/128/k55n0y80/t-shirt/z/g/6/xxl-tshirt-polo-red-allcarty-original-imaffh8tyuw6urdk.jpeg?q=70', 'https://rukminim1.flixcart.com/image/128/128/k55n0y80/t-shirt/z/g/6/xxl-tshirt-polo-red-allcarty-original-imaffh8tqnsfghjt.jpeg?q=70', 'https://rukminim1.flixcart.com/image/128/128/k55n0y80/t-shirt/k/5/q/l-tshirt-polo-blue-allcarty-original-imaffh8q7p5crhnj.jpeg?q=70', 'https://rukminim1.flixcart.com/image/128/128/k55n0y80/t-shirt/k/5/q/xxl-tshirt-polo-blue-allcarty-original-imaffh8q4awxyc6q.jpeg?q=70', 'https://rukminim1.flixcart.com/image/128/128/k55n0y80/t-shirt/f/s/y/xl-tshirt-polo-yellow-allcarty-original-imaffh8tqqebg5cm.jpeg?q=70', 'https://rukminim1.flixcart.com/image/128/128/k55n0y80/t-shirt/f/s/y/xl-tshirt-polo-yellow-allcarty-original-imaffh8tygpfyy5k.jpeg?q=70'], 'out_of_stock': False, 'pid': 'TSHFGBY7QSCNZGNJ', 'product_details': [{'Type': 'Polo Neck'}, {'Sleeve': 'Short Sleeve'}, {'Fit': 'Regular'}, {'Fabric': 'Polycotton'}, {'Sales Package': '3 T Shirts'}, {'Pack of': '3'}, {'Style Code': 'IF-T-PO-(RED-BLU-YLW)-3P'}, {'Neck Type': 'Polo Neck'}, {'Ideal For': 'Women'}, {'Size': 'XXL'}, {'Pattern': 'Solid'}, {'Suitable For': 'Western Wear'}, {'Brand Fit': 'Regular'}, {'Sleeve Type': 'Narrow'}, {'Fabric Care': 'Regular Machine Wash'}, {'Other Details': 'Dailywear Comfort Fit Poly Cotton T-Shirts - Pack of 2'}, {'Brand Color': 'Red;Blue;Yellow'}], 'seller': 'Keoti', 'selling_price': 664.0, 'sub_category': 'Topwear', 'title': 'Solid Women Polo Neck Red, Blue, Yellow T-Shirt\\xa0\\xa0(Pack of 3)', 'url': 'https://www.flipkart.com/keoti-solid-men-polo-neck-red-blue-yellow-t-shirt/p/itmfgb2kfv9szbkg?pid=TSHFGBY7QSCNZGNJ&lid=LSTTSHFGBY7QSCNZGNJAVEHMK&marketplace=FLIPKART&srno=b_8_304&otracker=browse&fm=organic&iid=e66b9dab-f8c6-4c66-ac3f-a1ca789c0bf5.TSHFGBY7QSCNZGNJ.SEARCH&ssid=ce8se83mqo0000001612110652452', 'title_clean': 'solid women polo neck red blue yellow tshirtpack 3', 'description_clean': 'experi amaz comfort keoti polo tshirt know busi student father offic worker day get dress simpli take much time need someth throw look simpl present dont want anyth fanci cute nondescript top wear your onthego polo shirt exactli great shirt everyday women wear anytim shirt necessari stapl everyday life versatil worn offic environ classroom even errand athlet activ even machin washabl need toss wash machin keoti polo shirt made fall spring summer great tshirt design mind chambray seam finish front button even made 60 cotton 40 polyest lightweight breathabl easili use tshirt great transit piec fall spring summer product inform made 60 cotton 40 polyest front button machin washabl', 'metadata_text': 'keo clothing and accessories topwear type polo neck sleeve short sleeve fit regular fabric polycotton sales package 3 t shirts pack of 3 style code if-t-po-(red-blu-ylw)-3p neck type polo neck ideal for women size xxl pattern solid suitable for western wear brand fit regular sleeve type narrow fabric care regular machine wash other details dailywear comfort fit poly cotton t-shirts - pack of 2 brand color red;blue;yellow keoti'}\n",
      "{'_id': 'a8b09a80-b1ee-5eb6-bad1-de125e0ff148', 'actual_price': 2.397, 'average_rating': 2.2, 'brand': 'TeeMoo', 'category': 'Clothing and Accessories', 'crawled_at': 1612999605000, 'description': 'Pack of Three Super soft Polo T shirts in pique. With ribbed polo collar and short sleeves with ribbed hem. Three button placket and vented hem. Size (in inches): Small- Chest-38, Length-25, Sleeve Length-8; Medium-Chest-40, Length-26, Sleeve Length-8.5; Large-Chest-42, Length-27, Sleeve Length-8.5; Xlarge-Chest-44, Length-28, Sleeve Length-9', 'discount': 58, 'images': ['https://rukminim1.flixcart.com/image/128/128/kdga1zk0/t-shirt/n/h/p/m-tm-c-1591navy-red-yel-teemoods-original-imafuc2kyrgbmu2b.jpeg?q=70', 'https://rukminim1.flixcart.com/image/128/128/kdga1zk0/t-shirt/c/9/o/l-tm-c-1591navy-grn-yel-teemoods-original-imafucftdenkgjrs.jpeg?q=70', 'https://rukminim1.flixcart.com/image/128/128/kdga1zk0/t-shirt/f/2/s/m-tm-c-1591blu-yel-wht-teemoods-original-imafuc2anmaacksx.jpeg?q=70', 'https://rukminim1.flixcart.com/image/128/128/kdga1zk0/t-shirt/h/w/f/l-tm-c-1591navy-grn-yel-teemoods-original-imafuc2ycma9zc5f.jpeg?q=70', 'https://rukminim1.flixcart.com/image/128/128/kdga1zk0/t-shirt/l/w/j/m-tm-c-1591red-blu-wht-teemoods-original-imafucf88ghtm9gy.jpeg?q=70'], 'out_of_stock': False, 'pid': 'TSHE6X3FVZDVDT2R', 'product_details': [{'Collar': 'Ribbed Collar'}, {'Type': 'Polo Neck'}, {'Sleeve': 'Half Sleeve'}, {'Fit': 'Regular'}, {'Fabric': 'Cotton Blend'}, {'Sales Package': '3 T shirts'}, {'Pack of': '3'}, {'Style Code': 'TM-C-1591NAVY-RED-YEL'}, {'Neck Type': 'Polo Neck'}, {'Ideal For': 'Men'}, {'Size': 'M'}, {'Pattern': 'Solid'}, {'Suitable For': 'Western Wear'}, {'Brand Fit': 'Regular Fit'}, {'Sleeve Type': 'Narrow'}, {'Reversible': 'No'}, {'Fabric Care': 'Normal Wash With Mild Detergent, With Like Colors. Do Not Bleach. Dry In Shade'}, {'Brand Color': 'Navy, Red, Yellow'}], 'seller': 'TeeMoo', 'selling_price': 999.0, 'sub_category': 'Topwear', 'title': 'Solid Men Polo Neck Dark Blue, Red, Yellow T-Shirt\\xa0\\xa0(Pack of 3)', 'url': 'https://www.flipkart.com/teemoods-solid-men-polo-neck-dark-blue-red-yellow-t-shirt/p/itme6x3yta5hjdh4?pid=TSHE6X3FVZDVDT2R&lid=LSTTSHE6X3FVZDVDT2RYRL5PH&marketplace=FLIPKART&srno=b_2_61&otracker=browse&fm=organic&iid=ec143f70-373f-4d35-9d53-163201f929fe.TSHE6X3FVZDVDT2R.SEARCH&ssid=p4xjs8vvb40000001612412158534', 'title_clean': 'solid men polo neck dark blue red yellow tshirtpack 3', 'description_clean': 'pack three super soft polo shirt piqu rib polo collar short sleev rib hem three button placket vent hem size inch small chest38 length25 sleev length8 mediumchest40 length26 sleev length85 largechest42 length27 sleev length85 xlargechest44 length28 sleev length9', 'metadata_text': 'teemoo clothing and accessories topwear collar ribbed collar type polo neck sleeve half sleeve fit regular fabric cotton blend sales package 3 t shirts pack of 3 style code tm-c-1591navy-red-yel neck type polo neck ideal for men size m pattern solid suitable for western wear brand fit regular fit sleeve type narrow reversible no fabric care normal wash with mild detergent, with like colors. do not bleach. dry in shade brand color navy, red, yellow teemoo'}\n",
      "{'_id': '4da131a7-e6eb-58d4-8d9d-d0e6780e68d7', 'actual_price': 499.0, 'average_rating': 3.2, 'brand': 'C', 'category': 'Clothing and Accessories', 'crawled_at': 1613001921000, 'description': 'CSZ T-shirts are made of 100% polyester and make a comfort wear for sports event and day to day wear. The feel of the fabric keeps you comfortable even at high humid conditions. This awesome Printed T-shirt with great finish, soft and comfy POLYESTER fabric will make you look awesome. It is smooth on the skin and can be worn for long time. Makes sure it is soft and breathable.', 'discount': 40, 'images': ['https://rukminim1.flixcart.com/image/128/128/kkcwo7k0/t-shirt/j/f/n/l-poly-messi-csz-original-imafzqfuphgy98nu.jpeg?q=70', 'https://rukminim1.flixcart.com/image/128/128/kkcwo7k0/t-shirt/b/o/f/l-poly-messi-csz-original-imafzqfutsf8xh8p.jpeg?q=70'], 'out_of_stock': False, 'pid': 'TSHFZQFUZJTGQQPY', 'product_details': [{'Type': 'Collared Neck'}, {'Sleeve': 'Half Sleeve'}, {'Fit': 'Regular'}, {'Fabric': 'Polyester'}, {'Sales Package': '1'}, {'Pack of': '1'}, {'Style Code': 'POLY_MESSI'}, {'Neck Type': 'Collared Neck'}, {'Ideal For': 'Men'}, {'Size': 'XL'}, {'Pattern': 'Printed'}, {'Suitable For': 'Western Wear'}, {'Fabric Care': 'Do not Iron on print/embroidery/embellishment'}, {'Brand Color': 'MULTICOLOR'}], 'seller': 'Cazeno Sportz', 'selling_price': 299.0, 'sub_category': 'Topwear', 'title': 'Printed Men Collared Neck Blue, Red, Yellow T-Shirt', 'url': 'https://www.flipkart.com/csz-printed-men-collared-neck-blue-red-yellow-t-shirt/p/itmc69931f9129b1?pid=TSHFZQFUZJTGQQPY&lid=LSTTSHFZQFUZJTGQQPYA4Y0TL&marketplace=FLIPKART&srno=b_1_7&otracker=browse&fm=organic&iid=e1279445-c039-48af-9c48-5b63d768fbd1.TSHFZQFUZJTGQQPY.SEARCH&ssid=cv1wme07og0000001612101262410', 'title_clean': 'print men collar neck blue red yellow tshirt', 'description_clean': 'csz tshirt made 100 polyest make comfort wear sport event day day wear feel fabric keep comfort even high humid condit awesom print tshirt great finish soft comfi polyest fabric make look awesom smooth skin worn long time make sure soft breathabl', 'metadata_text': 'c clothing and accessories topwear type collared neck sleeve half sleeve fit regular fabric polyester sales package 1 pack of 1 style code poly_messi neck type collared neck ideal for men size xl pattern printed suitable for western wear fabric care do not iron on print/embroidery/embellishment brand color multicolor cazeno sportz'}\n",
      "{'_id': 'ee14fd75-7bae-5690-b615-82c38efd04d8', 'actual_price': 2.697, 'average_rating': 3.1, 'brand': 'TeeMoo', 'category': 'Clothing and Accessories', 'crawled_at': 1612999622000, 'description': \"TeeMoods Men's T shirts. Pack of Three. Made in 100% Cotton and in Biowash fabric. Which is soft,smoother to the skin and is good for Sultry Summer of India. Comfortable to wear. All Sizes available. Sizes: S- Chest-38in, Length-26in, Sleeve Length-8in; Size: M- Chest-40in, Length-27in, Sleeve Length-8.5in; Size: L-Chest-42in, Length-28in, Sleeve Length-9in. Size: XL-Chest-44in, Length-29in, Sleeve Length-9.5in\", 'discount': 62, 'images': ['https://rukminim1.flixcart.com/image/128/128/t-shirt/y/h/y/tm-c-1549red-yel-navy-teemoods-m-original-imae58qztsjjzmsg.jpeg?q=70', 'https://rukminim1.flixcart.com/image/128/128/t-shirt/a/p/m/tm-c-1549navy-rgrn-yel-teemoods-xl-original-imae4sfjhgbhaqhp.jpeg?q=70', 'https://rukminim1.flixcart.com/image/128/128/t-shirt/y/h/y/tm-c-1549red-yel-navy-teemoods-m-original-imae4sfjv6u64btq.jpeg?q=70', 'https://rukminim1.flixcart.com/image/128/128/t-shirt/u/t/w/tm-c-1549-8pc-teemoods-xl-original-imae58qzg6z8xjfv.jpeg?q=70', 'https://rukminim1.flixcart.com/image/128/128/t-shirt/y/h/y/tm-c-1549red-yel-navy-teemoods-m-original-imae4sfjapcvjqxw.jpeg?q=70'], 'out_of_stock': False, 'pid': 'TSHE59FZSPNHNDE7', 'product_details': [{'Type': 'V-neck'}, {'Sleeve': 'Half Sleeve'}, {'Fabric': 'Cotton Blend'}, {'Sales Package': '3 T Shirts'}, {'Pack of': '3'}, {'Style Code': 'TM-C-1549RED-YEL-NAVY'}, {'Neck Type': 'V-neck'}, {'Ideal For': 'Men'}, {'Size': 'XL'}, {'Pattern': 'Solid'}, {'Brand Fit': 'Regular Fit'}, {'Reversible': 'No'}, {'Fabric Care': 'Hand wash in Cold Water seperately. Use Mild Detergent. Dry in Shade. Do not Bleach'}, {'Model Name': 'Tm-Combos'}, {'Brand Color': 'Navy, Red, Yellow'}], 'seller': 'TeeMoo', 'selling_price': 999.0, 'sub_category': 'Topwear', 'title': 'Solid Men V-neck Dark Blue, Red, Yellow T-Shirt\\xa0\\xa0(Pack of 3)', 'url': 'https://www.flipkart.com/teemoods-solid-men-v-neck-dark-blue-red-yellow-t-shirt/p/itmez6zsv2s9fjqr?pid=TSHE59FZSPNHNDE7&lid=LSTTSHE59FZSPNHNDE7DYMSDN&marketplace=FLIPKART&srno=b_2_76&otracker=browse&fm=organic&iid=ec143f70-373f-4d35-9d53-163201f929fe.TSHE59FZSPNHNDE7.SEARCH&ssid=p4xjs8vvb40000001612412158534', 'title_clean': 'solid men vneck dark blue red yellow tshirtpack 3', 'description_clean': 'teemood men shirt pack three made 100 cotton biowash fabric softsmooth skin good sultri summer india comfort wear size avail size chest38in length26in sleev length8in size chest40in length27in sleev length85in size lchest42in length28in sleev length9in size xlchest44in length29in sleev length95in', 'metadata_text': 'teemoo clothing and accessories topwear type v-neck sleeve half sleeve fabric cotton blend sales package 3 t shirts pack of 3 style code tm-c-1549red-yel-navy neck type v-neck ideal for men size xl pattern solid brand fit regular fit reversible no fabric care hand wash in cold water seperately. use mild detergent. dry in shade. do not bleach model name tm-combos brand color navy, red, yellow teemoo'}\n"
     ]
    }
   ],
   "source": [
    "# Retrieve and print the documents that match the query\n",
    "def print_matching_documents(features):\n",
    "  print(\"\\nMatching documents with features\", features, \":\")\n",
    "  matching_doc_ids = query(features, inverted_index)\n",
    "  for docid in matching_doc_ids:\n",
    "      # Find the document in the corpus list that matches the docid (pid)\n",
    "      for doc in corpus:\n",
    "          if doc.get('pid') == docid:\n",
    "              print(doc)\n",
    "              break # Found the document, move to the next docid\n",
    "  if not matching_doc_ids:\n",
    "      print(\"No matching documents found.\")\n",
    "#Example queries:\n",
    "features1 = ['jean','red','jacket']\n",
    "features2 = ['pink','stripe','shirt']\n",
    "features3 = ['sock','stripe','grey']\n",
    "features4 = ['sport','shoe','red']\n",
    "features5 = ['blue','red','yellow']\n",
    "print_matching_documents(features1)\n",
    "print_matching_documents(features2)\n",
    "print_matching_documents(features3)\n",
    "print_matching_documents(features4)\n",
    "print_matching_documents(features5)"
   ]
  },
  {
   "cell_type": "code",
   "execution_count": null,
   "metadata": {
    "executionInfo": {
     "elapsed": 392657,
     "status": "ok",
     "timestamp": 1762001467836,
     "user": {
      "displayName": "GORI RIBOT SANSO",
      "userId": "10737783650973683761"
     },
     "user_tz": -60
    },
    "id": "51l57BEVmmo2"
   },
   "outputs": [],
   "source": [
    "from collections import Counter\n",
    "import math\n",
    "#1.3\n",
    "# Calculate TF for each term in each document\n",
    "tf_scores = {}\n",
    "for doc in corpus:\n",
    "    doc_id = doc['pid']\n",
    "    cleaned_text = doc.get('title_clean', '') + ' ' + doc.get('description_clean', '')\n",
    "    terms = cleaned_text.split()\n",
    "    term_counts = Counter(terms)\n",
    "    total_terms = len(terms)\n",
    "    tf_scores[doc_id] = {term: count / total_terms for term, count in term_counts.items()}\n",
    "\n",
    "#Calculate IDF for each term in the corpus\n",
    "idf_scores = {}\n",
    "total_documents = len(corpus)\n",
    "all_terms = set(term for doc_id, doc_tf in tf_scores.items() for term in doc_tf.keys())\n",
    "\n",
    "for term in all_terms:\n",
    "    doc_count = sum(1 for doc in corpus if term in (doc.get('title_clean', '') + ' ' + doc.get('description_clean', '')).split())\n",
    "    idf_scores[term] = math.log(total_documents / doc_count)\n",
    "\n",
    "#Calculate TF-IDF scores\n",
    "tfidf_scores = {}\n",
    "for doc_id, doc_tf in tf_scores.items():\n",
    "    tfidf_scores[doc_id] = {term: tf * idf_scores.get(term, 0) for term, tf in doc_tf.items()}\n",
    "\n",
    "#Function to rank documents based on TF-IDF scores for a given query\n",
    "def rank_documents_tfidf(query_terms, inverted_index, tfidf_scores):\n",
    "    \"\"\"\n",
    "    Ranks documents based on the sum of TF-IDF scores of the query terms.\n",
    "\n",
    "    Args:\n",
    "        query_terms (list): A list of terms (words) to query.\n",
    "        inverted_index (dict): The inverted index mapping terms to document IDs.\n",
    "        tfidf_scores (dict): A dictionary of TF-IDF scores for each term in each document.\n",
    "\n",
    "    Returns:\n",
    "        list: A list of document IDs sorted by their relevance (sum of TF-IDF scores).\n",
    "    \"\"\"\n",
    "    # Get the initial set of matching documents using the conjunctive query\n",
    "    matching_doc_ids = query(query_terms, inverted_index)\n",
    "\n",
    "    # Calculate relevance score for each matching document\n",
    "    relevance_scores = {}\n",
    "    for doc_id in matching_doc_ids:\n",
    "        score = sum(tfidf_scores[doc_id].get(term, 0) for term in query_terms)\n",
    "        relevance_scores[doc_id] = score\n",
    "\n",
    "    # Sort documents by relevance score in descending order\n",
    "    ranked_docs = sorted(relevance_scores.items(), key=lambda item: item[1], reverse=True)\n",
    "\n",
    "    # Return both the ranked document IDs and the relevance scores\n",
    "    return [doc_id for doc_id, score in ranked_docs], relevance_scores\n",
    "\n",
    "# Function to print ranked documents\n",
    "def print_ranked_documents(features, inverted_index, tfidf_scores, corpus, top_k=10):\n",
    "    print(\"\\nRanked documents for features\", features, \":\")\n",
    "    ranked_results, relevance_scores = rank_documents_tfidf(features, inverted_index, tfidf_scores)\n",
    "    if ranked_results:\n",
    "        # Only keep top_k results\n",
    "        for docid in ranked_results[:top_k]:\n",
    "            for doc in corpus:\n",
    "                if doc.get('pid') == docid:\n",
    "                    print(f\"Doc ID: {docid}, Score: {relevance_scores[docid]:.4f}, Title: {doc.get('title', 'N/A')}\")\n",
    "                    break\n",
    "    else:\n",
    "        print(\"No matching documents found.\")"
   ]
  },
  {
   "cell_type": "code",
   "execution_count": null,
   "metadata": {
    "colab": {
     "base_uri": "https://localhost:8080/"
    },
    "executionInfo": {
     "elapsed": 22,
     "status": "ok",
     "timestamp": 1762001467864,
     "user": {
      "displayName": "GORI RIBOT SANSO",
      "userId": "10737783650973683761"
     },
     "user_tz": -60
    },
    "id": "h7wtljs_4-2m",
    "outputId": "aceae2cf-491b-4d1e-ddeb-a5bec3734a75"
   },
   "outputs": [
    {
     "name": "stdout",
     "output_type": "stream",
     "text": [
      "\n",
      "Ranked documents for features ['woman', 'full', 'sleeve', 'sweatshirt', 'cotton'] :\n",
      "Doc ID: SWSFZVTNGM4HG8BC, Score: 1.3451, Title: Full Sleeve Printed Women Sweatshirt\n",
      "Doc ID: SWSFZVTTQCB4SJ7F, Score: 1.3451, Title: Full Sleeve Solid Women Sweatshirt\n",
      "Doc ID: SWSFZZ3XH5PG9VZ4, Score: 1.3451, Title: Full Sleeve Solid Women Sweatshirt\n",
      "Doc ID: SWSFGNK2VZBAM7GG, Score: 1.2712, Title: Full Sleeve Embroidered Men Sweatshirt\n",
      "Doc ID: SWSFJFV4ZKWUX2FP, Score: 1.2712, Title: Full Sleeve Solid Men Sweatshirt\n",
      "Doc ID: SWSFTEMFY8PWDWJQ, Score: 1.0170, Title: Full Sleeve Solid Women Sweatshirt\n",
      "Doc ID: SWSFUY89VCRXH8UD, Score: 1.0170, Title: Full Sleeve Printed Women Sweatshirt\n",
      "Doc ID: SWSF9W4TBFMF3GZA, Score: 1.0170, Title: Full Sleeve Striped Women Sweatshirt\n",
      "Doc ID: SWSFGRFGWRX8HZBQ, Score: 1.0170, Title: Full Sleeve Solid Women Sweatshirt\n",
      "Doc ID: SWSF8922HHDGB7CH, Score: 1.0170, Title: Full Sleeve Striped Men Sweatshirt\n",
      "\n",
      "Ranked documents for features ['slim', 'jeans', 'blue'] :\n"
     ]
    },
    {
     "ename": "TypeError",
     "evalue": "'NoneType' object does not support item assignment",
     "output_type": "error",
     "traceback": [
      "\u001b[1;31m---------------------------------------------------------------------------\u001b[0m",
      "\u001b[1;31mTypeError\u001b[0m                                 Traceback (most recent call last)",
      "Input \u001b[1;32mIn [63]\u001b[0m, in \u001b[0;36m<cell line: 14>\u001b[1;34m()\u001b[0m\n\u001b[0;32m     13\u001b[0m \u001b[38;5;66;03m# Generate ranked results for each query\u001b[39;00m\n\u001b[0;32m     14\u001b[0m \u001b[38;5;28;01mfor\u001b[39;00m q_id, features \u001b[38;5;129;01min\u001b[39;00m queries\u001b[38;5;241m.\u001b[39mitems():\n\u001b[1;32m---> 15\u001b[0m     ranked_results \u001b[38;5;241m=\u001b[39m \u001b[43mprint_and_store_ranked_documents\u001b[49m\u001b[43m(\u001b[49m\n\u001b[0;32m     16\u001b[0m \u001b[43m        \u001b[49m\u001b[43mfeatures\u001b[49m\u001b[43m,\u001b[49m\u001b[43m \u001b[49m\u001b[43minverted_index\u001b[49m\u001b[43m,\u001b[49m\u001b[43m \u001b[49m\u001b[43mtfidf_scores\u001b[49m\u001b[43m,\u001b[49m\u001b[43m \u001b[49m\u001b[43mcorpus\u001b[49m\u001b[43m,\u001b[49m\n\u001b[0;32m     17\u001b[0m \u001b[43m        \u001b[49m\u001b[43mranked_results\u001b[49m\u001b[38;5;241;43m=\u001b[39;49m\u001b[43mranked_results\u001b[49m\u001b[43m,\u001b[49m\u001b[43m \u001b[49m\u001b[43mquery_id\u001b[49m\u001b[38;5;241;43m=\u001b[39;49m\u001b[43mq_id\u001b[49m\n\u001b[0;32m     18\u001b[0m \u001b[43m    \u001b[49m\u001b[43m)\u001b[49m\n",
      "Input \u001b[1;32mIn [60]\u001b[0m, in \u001b[0;36mprint_and_store_ranked_documents\u001b[1;34m(features, inverted_index, tfidf_scores, corpus, ranked_results, query_id, top_k)\u001b[0m\n\u001b[0;32m     64\u001b[0m \u001b[38;5;66;03m# Only take top_k\u001b[39;00m\n\u001b[0;32m     65\u001b[0m top_docs \u001b[38;5;241m=\u001b[39m ranked_docs[:top_k]\n\u001b[1;32m---> 66\u001b[0m ranked_results[query_id] \u001b[38;5;241m=\u001b[39m top_docs  \u001b[38;5;66;03m# Store doc IDs for this query\u001b[39;00m\n\u001b[0;32m     68\u001b[0m \u001b[38;5;66;03m# Print results for display\u001b[39;00m\n\u001b[0;32m     69\u001b[0m \u001b[38;5;28;01mif\u001b[39;00m top_docs:\n",
      "\u001b[1;31mTypeError\u001b[0m: 'NoneType' object does not support item assignment"
     ]
    }
   ],
   "source": [
    "# Example usage with the previous queries:\n",
    "features_obl1 = ['woman', 'full', 'sleeve', 'sweatshirt', 'cotton']\n",
    "features_obl2 = [ 'slim', 'jeans', 'blue']\n",
    "features1 = ['jean','red','jacket']\n",
    "features2 = ['pink','stripe','shirt']\n",
    "features3 = ['sock','stripe','grey']\n",
    "features4 = ['sport','shoe','red']\n",
    "features5 = ['blue','red','yellow']\n",
    "\n",
    "print_ranked_documents(features_obl1, inverted_index, tfidf_scores, corpus)\n",
    "print_ranked_documents(features_obl2, inverted_index, tfidf_scores, corpus)\n",
    "print_ranked_documents(features1, inverted_index, tfidf_scores, corpus)\n",
    "print_ranked_documents(features2, inverted_index, tfidf_scores, corpus)\n",
    "print_ranked_documents(features3, inverted_index, tfidf_scores, corpus)\n",
    "print_ranked_documents(features4, inverted_index, tfidf_scores, corpus)\n",
    "print_ranked_documents(features5, inverted_index, tfidf_scores, corpus)"
   ]
  },
  {
   "cell_type": "code",
   "execution_count": null,
   "metadata": {},
   "outputs": [
    {
     "ename": "KeyError",
     "evalue": "'doc_id'",
     "output_type": "error",
     "traceback": [
      "\u001b[1;31m---------------------------------------------------------------------------\u001b[0m",
      "\u001b[1;31mKeyError\u001b[0m                                  Traceback (most recent call last)",
      "File \u001b[1;32mc:\\Users\\caste\\anaconda3\\lib\\site-packages\\pandas\\core\\indexes\\base.py:3621\u001b[0m, in \u001b[0;36mIndex.get_loc\u001b[1;34m(self, key, method, tolerance)\u001b[0m\n\u001b[0;32m   3620\u001b[0m \u001b[38;5;28;01mtry\u001b[39;00m:\n\u001b[1;32m-> 3621\u001b[0m     \u001b[38;5;28;01mreturn\u001b[39;00m \u001b[38;5;28;43mself\u001b[39;49m\u001b[38;5;241;43m.\u001b[39;49m\u001b[43m_engine\u001b[49m\u001b[38;5;241;43m.\u001b[39;49m\u001b[43mget_loc\u001b[49m\u001b[43m(\u001b[49m\u001b[43mcasted_key\u001b[49m\u001b[43m)\u001b[49m\n\u001b[0;32m   3622\u001b[0m \u001b[38;5;28;01mexcept\u001b[39;00m \u001b[38;5;167;01mKeyError\u001b[39;00m \u001b[38;5;28;01mas\u001b[39;00m err:\n",
      "File \u001b[1;32mc:\\Users\\caste\\anaconda3\\lib\\site-packages\\pandas\\_libs\\index.pyx:136\u001b[0m, in \u001b[0;36mpandas._libs.index.IndexEngine.get_loc\u001b[1;34m()\u001b[0m\n",
      "File \u001b[1;32mc:\\Users\\caste\\anaconda3\\lib\\site-packages\\pandas\\_libs\\index.pyx:163\u001b[0m, in \u001b[0;36mpandas._libs.index.IndexEngine.get_loc\u001b[1;34m()\u001b[0m\n",
      "File \u001b[1;32mpandas\\_libs\\hashtable_class_helper.pxi:5198\u001b[0m, in \u001b[0;36mpandas._libs.hashtable.PyObjectHashTable.get_item\u001b[1;34m()\u001b[0m\n",
      "File \u001b[1;32mpandas\\_libs\\hashtable_class_helper.pxi:5206\u001b[0m, in \u001b[0;36mpandas._libs.hashtable.PyObjectHashTable.get_item\u001b[1;34m()\u001b[0m\n",
      "\u001b[1;31mKeyError\u001b[0m: 'doc_id'",
      "\nThe above exception was the direct cause of the following exception:\n",
      "\u001b[1;31mKeyError\u001b[0m                                  Traceback (most recent call last)",
      "Input \u001b[1;32mIn [23]\u001b[0m, in \u001b[0;36m<cell line: 4>\u001b[1;34m()\u001b[0m\n\u001b[0;32m      2\u001b[0m validation \u001b[38;5;241m=\u001b[39m pd\u001b[38;5;241m.\u001b[39mread_csv(\u001b[38;5;124m\"\u001b[39m\u001b[38;5;124mvalidation_labels.csv\u001b[39m\u001b[38;5;124m\"\u001b[39m)\n\u001b[0;32m      3\u001b[0m validation\u001b[38;5;241m.\u001b[39mcolumns \u001b[38;5;241m=\u001b[39m [c\u001b[38;5;241m.\u001b[39mlower() \u001b[38;5;28;01mfor\u001b[39;00m c \u001b[38;5;129;01min\u001b[39;00m validation\u001b[38;5;241m.\u001b[39mcolumns]  \u001b[38;5;66;03m# ensure consistent naming\u001b[39;00m\n\u001b[1;32m----> 4\u001b[0m validation[\u001b[38;5;124m'\u001b[39m\u001b[38;5;124mdoc_id\u001b[39m\u001b[38;5;124m'\u001b[39m] \u001b[38;5;241m=\u001b[39m \u001b[43mvalidation\u001b[49m\u001b[43m[\u001b[49m\u001b[38;5;124;43m'\u001b[39;49m\u001b[38;5;124;43mdoc_id\u001b[39;49m\u001b[38;5;124;43m'\u001b[39;49m\u001b[43m]\u001b[49m\u001b[38;5;241m.\u001b[39mastype(\u001b[38;5;28mstr\u001b[39m)\n\u001b[0;32m      5\u001b[0m validation[\u001b[38;5;124m'\u001b[39m\u001b[38;5;124mquery\u001b[39m\u001b[38;5;124m'\u001b[39m] \u001b[38;5;241m=\u001b[39m validation[\u001b[38;5;124m'\u001b[39m\u001b[38;5;124mquery\u001b[39m\u001b[38;5;124m'\u001b[39m]\u001b[38;5;241m.\u001b[39mastype(\u001b[38;5;28mstr\u001b[39m)\n\u001b[0;32m      7\u001b[0m ranked_results \u001b[38;5;241m=\u001b[39m {\n\u001b[0;32m      8\u001b[0m     \u001b[38;5;66;03m# REQUIRED (from assignment spec):\u001b[39;00m\n\u001b[0;32m      9\u001b[0m     \u001b[38;5;124m\"\u001b[39m\u001b[38;5;124m1\u001b[39m\u001b[38;5;124m\"\u001b[39m: [\u001b[38;5;124m\"\u001b[39m\u001b[38;5;124mPID123\u001b[39m\u001b[38;5;124m\"\u001b[39m, \u001b[38;5;124m\"\u001b[39m\u001b[38;5;124mPID998\u001b[39m\u001b[38;5;124m\"\u001b[39m, \u001b[38;5;124m\"\u001b[39m\u001b[38;5;124mPID321\u001b[39m\u001b[38;5;124m\"\u001b[39m, \u001b[38;5;124m\"\u001b[39m\u001b[38;5;124mPID650\u001b[39m\u001b[38;5;124m\"\u001b[39m],  \n\u001b[1;32m   (...)\u001b[0m\n\u001b[0;32m     17\u001b[0m     \u001b[38;5;124m\"\u001b[39m\u001b[38;5;124m7\u001b[39m\u001b[38;5;124m\"\u001b[39m: [\u001b[38;5;124m\"\u001b[39m\u001b[38;5;124mPID910\u001b[39m\u001b[38;5;124m\"\u001b[39m, \u001b[38;5;124m\"\u001b[39m\u001b[38;5;124mPID920\u001b[39m\u001b[38;5;124m\"\u001b[39m, \u001b[38;5;124m\"\u001b[39m\u001b[38;5;124mPID930\u001b[39m\u001b[38;5;124m\"\u001b[39m],\n\u001b[0;32m     18\u001b[0m }\n",
      "File \u001b[1;32mc:\\Users\\caste\\anaconda3\\lib\\site-packages\\pandas\\core\\frame.py:3505\u001b[0m, in \u001b[0;36mDataFrame.__getitem__\u001b[1;34m(self, key)\u001b[0m\n\u001b[0;32m   3503\u001b[0m \u001b[38;5;28;01mif\u001b[39;00m \u001b[38;5;28mself\u001b[39m\u001b[38;5;241m.\u001b[39mcolumns\u001b[38;5;241m.\u001b[39mnlevels \u001b[38;5;241m>\u001b[39m \u001b[38;5;241m1\u001b[39m:\n\u001b[0;32m   3504\u001b[0m     \u001b[38;5;28;01mreturn\u001b[39;00m \u001b[38;5;28mself\u001b[39m\u001b[38;5;241m.\u001b[39m_getitem_multilevel(key)\n\u001b[1;32m-> 3505\u001b[0m indexer \u001b[38;5;241m=\u001b[39m \u001b[38;5;28;43mself\u001b[39;49m\u001b[38;5;241;43m.\u001b[39;49m\u001b[43mcolumns\u001b[49m\u001b[38;5;241;43m.\u001b[39;49m\u001b[43mget_loc\u001b[49m\u001b[43m(\u001b[49m\u001b[43mkey\u001b[49m\u001b[43m)\u001b[49m\n\u001b[0;32m   3506\u001b[0m \u001b[38;5;28;01mif\u001b[39;00m is_integer(indexer):\n\u001b[0;32m   3507\u001b[0m     indexer \u001b[38;5;241m=\u001b[39m [indexer]\n",
      "File \u001b[1;32mc:\\Users\\caste\\anaconda3\\lib\\site-packages\\pandas\\core\\indexes\\base.py:3623\u001b[0m, in \u001b[0;36mIndex.get_loc\u001b[1;34m(self, key, method, tolerance)\u001b[0m\n\u001b[0;32m   3621\u001b[0m     \u001b[38;5;28;01mreturn\u001b[39;00m \u001b[38;5;28mself\u001b[39m\u001b[38;5;241m.\u001b[39m_engine\u001b[38;5;241m.\u001b[39mget_loc(casted_key)\n\u001b[0;32m   3622\u001b[0m \u001b[38;5;28;01mexcept\u001b[39;00m \u001b[38;5;167;01mKeyError\u001b[39;00m \u001b[38;5;28;01mas\u001b[39;00m err:\n\u001b[1;32m-> 3623\u001b[0m     \u001b[38;5;28;01mraise\u001b[39;00m \u001b[38;5;167;01mKeyError\u001b[39;00m(key) \u001b[38;5;28;01mfrom\u001b[39;00m \u001b[38;5;21;01merr\u001b[39;00m\n\u001b[0;32m   3624\u001b[0m \u001b[38;5;28;01mexcept\u001b[39;00m \u001b[38;5;167;01mTypeError\u001b[39;00m:\n\u001b[0;32m   3625\u001b[0m     \u001b[38;5;66;03m# If we have a listlike key, _check_indexing_error will raise\u001b[39;00m\n\u001b[0;32m   3626\u001b[0m     \u001b[38;5;66;03m#  InvalidIndexError. Otherwise we fall through and re-raise\u001b[39;00m\n\u001b[0;32m   3627\u001b[0m     \u001b[38;5;66;03m#  the TypeError.\u001b[39;00m\n\u001b[0;32m   3628\u001b[0m     \u001b[38;5;28mself\u001b[39m\u001b[38;5;241m.\u001b[39m_check_indexing_error(key)\n",
      "\u001b[1;31mKeyError\u001b[0m: 'doc_id'"
     ]
    }
   ],
   "source": [
    "# PART 2 \n",
    "validation = pd.read_csv(\"validation_labels.csv\")\n",
    "validation.columns = [c.lower() for c in validation.columns]\n",
    "validation['doc_id'] = validation['doc_id'].astype(str)\n",
    "validation['query'] = validation['query'].astype(str)\n",
    "\n",
    "ranked_results = {\n",
    "    \"1\": [\"PID123\", \"PID998\", \"PID321\", \"PID650\"],  # women full sleeve sweatshirt cotton\n",
    "    \"2\": [\"PID500\", \"PID444\", \"PID321\"],            # men slim jeans \n",
    "\n",
    "    \"3\": [\"PID100\", \"PID200\", \"PID300\"],\n",
    "    \"4\": [\"PID400\", \"PID500\"],\n",
    "    \"5\": [\"PID600\", \"PID700\"],\n",
    "    \"6\": [\"PID888\", \"PID777\"],\n",
    "    \"7\": [\"PID910\", \"PID920\", \"PID930\"],\n",
    "}\n",
    "\n",
    "for q_id, docs in ranked_results.items():\n",
    "    evaluate_query(q_id, docs)\n"
   ]
  },
  {
   "cell_type": "code",
   "execution_count": null,
   "metadata": {},
   "outputs": [],
   "source": [
    "# 2.1\n",
    "def precision_at_k(retrieved, relevant, k):\n",
    "    retrieved_k = retrieved[:k]\n",
    "    return sum(1 for doc in retrieved_k if doc in relevant) / k\n",
    "\n",
    "\n",
    "def recall_at_k(retrieved, relevant, k):\n",
    "    retrieved_k = retrieved[:k]\n",
    "    return sum(1 for doc in retrieved_k if doc in relevant) / len(relevant)\n",
    "\n",
    "\n",
    "def average_precision_at_k(retrieved, relevant, k):\n",
    "    retrieved_k = retrieved[:k]\n",
    "    score = 0\n",
    "    rel_count = 0\n",
    "\n",
    "    for i, doc in enumerate(retrieved_k, start=1):\n",
    "        if doc in relevant:\n",
    "            rel_count += 1\n",
    "            score += rel_count / i\n",
    "\n",
    "    return score / len(relevant) if len(relevant) > 0 else 0\n",
    "\n",
    "\n",
    "def f1_at_k(retrieved, relevant, k):\n",
    "    p = precision_at_k(retrieved, relevant, k)\n",
    "    r = recall_at_k(retrieved, relevant, k)\n",
    "    return (2 * p * r) / (p + r) if (p + r) > 0 else 0\n",
    "\n",
    "\n",
    "def reciprocal_rank(retrieved, relevant):\n",
    "    for i, doc in enumerate(retrieved, start=1):\n",
    "        if doc in relevant:\n",
    "            return 1 / i\n",
    "    return 0\n",
    "\n",
    "\n",
    "def dcg_at_k(retrieved, relevant, k):\n",
    "    retrieved_k = retrieved[:k]\n",
    "    dcg = 0\n",
    "    for i, doc in enumerate(retrieved_k, start=1):\n",
    "        rel = 1 if doc in relevant else 0\n",
    "        dcg += rel / math.log2(i + 1)\n",
    "    return dcg\n",
    "\n",
    "\n",
    "def ndcg_at_k(retrieved, relevant, k):\n",
    "    ideal = [1] * len(relevant)\n",
    "    idcg = sum(rel / math.log2(i + 1) for i, rel in enumerate(ideal[:k], start=1))\n",
    "    return dcg_at_k(retrieved, relevant, k) / idcg if idcg > 0 else 0\n"
   ]
  },
  {
   "cell_type": "code",
   "execution_count": null,
   "metadata": {},
   "outputs": [],
   "source": [
    "def evaluate_query(query_id, retrieved_docs, K=[1, 3, 5, 10]):\n",
    "    relevant_docs = validation[validation[\"query\"] == str(query_id)]\n",
    "    relevant_docs = relevant_docs[relevant_docs[\"relevance\"] == 1][\"doc_id\"].tolist()\n",
    "\n",
    "    print(f\"\\n===== Query {query_id} Evaluation =====\")\n",
    "    print(f\"Relevant documents: {relevant_docs}\")\n",
    "\n",
    "    for k in K:\n",
    "        P = precision_at_k(retrieved_docs, relevant_docs, k)\n",
    "        R = recall_at_k(retrieved_docs, relevant_docs, k)\n",
    "        AP = average_precision_at_k(retrieved_docs, relevant_docs, k)\n",
    "        F1 = f1_at_k(retrieved_docs, relevant_docs, k)\n",
    "        NDCG = ndcg_at_k(retrieved_docs, relevant_docs, k)\n",
    "\n",
    "        print(f\"@{k} →  P: {P:.3f}   R: {R:.3f}   AP: {AP:.3f}   F1: {F1:.3f}   NDCG: {NDCG:.3f}\")\n",
    "\n",
    "    RR = reciprocal_rank(retrieved_docs, relevant_docs)\n",
    "    print(f\"MRR: {RR:.3f}\")"
   ]
  }
 ],
 "metadata": {
  "colab": {
   "provenance": []
  },
  "kernelspec": {
   "display_name": "base",
   "language": "python",
   "name": "python3"
  },
  "language_info": {
   "codemirror_mode": {
    "name": "ipython",
    "version": 3
   },
   "file_extension": ".py",
   "mimetype": "text/x-python",
   "name": "python",
   "nbconvert_exporter": "python",
   "pygments_lexer": "ipython3",
   "version": "3.9.12"
  }
 },
 "nbformat": 4,
 "nbformat_minor": 0
}
